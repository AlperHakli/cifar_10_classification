{
 "cells": [
  {
   "cell_type": "markdown",
   "id": "a40c8be6",
   "metadata": {
    "papermill": {
     "duration": 0.007232,
     "end_time": "2025-06-18T15:44:08.530263",
     "exception": false,
     "start_time": "2025-06-18T15:44:08.523031",
     "status": "completed"
    },
    "tags": []
   },
   "source": [
    "## Introduction"
   ]
  },
  {
   "cell_type": "markdown",
   "id": "57fac477",
   "metadata": {
    "papermill": {
     "duration": 0.00562,
     "end_time": "2025-06-18T15:44:08.542111",
     "exception": false,
     "start_time": "2025-06-18T15:44:08.536491",
     "status": "completed"
    },
    "tags": []
   },
   "source": [
    "## 🧠 CIFAR-10 Dataset Overview\n",
    "\n",
    "The **CIFAR-10** dataset is a well-known benchmark in the field of computer vision, consisting of **60,000 32x32 color images** across **10 distinct classes**, such as airplanes, cars, cats, and dogs. With **50,000 training images** and **10,000 test images**, it serves as an ideal playground for developing and evaluating image classification models.\n"
   ]
  },
  {
   "cell_type": "markdown",
   "id": "0b737cc2",
   "metadata": {
    "papermill": {
     "duration": 0.005608,
     "end_time": "2025-06-18T15:44:08.553540",
     "exception": false,
     "start_time": "2025-06-18T15:44:08.547932",
     "status": "completed"
    },
    "tags": []
   },
   "source": [
    "Our labels:\n",
    "1. Airplane\n",
    "1. Automobile\n",
    "1. Bird\n",
    "1. Cat\n",
    "1. Deer\n",
    "1. Dog\n",
    "1. Frog\n",
    "1. Horse\n",
    "1. Ship\n",
    "1. Truck"
   ]
  },
  {
   "cell_type": "markdown",
   "id": "5feb90da",
   "metadata": {
    "papermill": {
     "duration": 0.005643,
     "end_time": "2025-06-18T15:44:08.564908",
     "exception": false,
     "start_time": "2025-06-18T15:44:08.559265",
     "status": "completed"
    },
    "tags": []
   },
   "source": [
    "## Libraries"
   ]
  },
  {
   "cell_type": "code",
   "execution_count": 1,
   "id": "59d38cb1",
   "metadata": {
    "execution": {
     "iopub.execute_input": "2025-06-18T15:44:08.577578Z",
     "iopub.status.busy": "2025-06-18T15:44:08.577348Z",
     "iopub.status.idle": "2025-06-18T15:44:24.806799Z",
     "shell.execute_reply": "2025-06-18T15:44:24.806179Z"
    },
    "papermill": {
     "duration": 16.23748,
     "end_time": "2025-06-18T15:44:24.808089",
     "exception": false,
     "start_time": "2025-06-18T15:44:08.570609",
     "status": "completed"
    },
    "tags": []
   },
   "outputs": [
    {
     "name": "stderr",
     "output_type": "stream",
     "text": [
      "2025-06-18 15:44:13.050385: E external/local_xla/xla/stream_executor/cuda/cuda_fft.cc:477] Unable to register cuFFT factory: Attempting to register factory for plugin cuFFT when one has already been registered\n",
      "WARNING: All log messages before absl::InitializeLog() is called are written to STDERR\n",
      "E0000 00:00:1750261453.262562      19 cuda_dnn.cc:8310] Unable to register cuDNN factory: Attempting to register factory for plugin cuDNN when one has already been registered\n",
      "E0000 00:00:1750261453.317755      19 cuda_blas.cc:1418] Unable to register cuBLAS factory: Attempting to register factory for plugin cuBLAS when one has already been registered\n"
     ]
    }
   ],
   "source": [
    "import pandas as pd\n",
    "import numpy as np\n",
    "import matplotlib.pyplot as plt\n",
    "import seaborn as sns\n",
    "import tensorflow as tf\n",
    "from tensorflow.keras.datasets import cifar10\n",
    "from tensorflow.keras.models import Sequential\n",
    "from tensorflow.keras.layers import Conv2D , MaxPool2D , Dropout , Dense , Flatten\\\n",
    ", Dropout , BatchNormalization , Activation , Input , Resizing , GlobalAveragePooling2D\n",
    "from tensorflow.keras.callbacks import EarlyStopping\n",
    "from tensorflow.keras.optimizers import Adam\n",
    "from tensorflow.keras.preprocessing.image import ImageDataGenerator\n",
    "from tensorflow.keras.applications import MobileNetV2 , ResNet50 , EfficientNetB1\n",
    "from tensorflow.keras.applications.mobilenet import preprocess_input as mobilenet_preprocess_input\n",
    "from tensorflow.keras.applications.resnet import preprocess_input as resnet_preprocess_input\n",
    "from tensorflow.keras.applications.efficientnet import preprocess_input as efficientnet_preprocess_input\n",
    "from PIL import Image\n",
    "from sklearn.metrics import roc_curve\n",
    "from sklearn.preprocessing import normalize\n",
    "import warnings\n",
    "warnings.filterwarnings(\"ignore\")"
   ]
  },
  {
   "cell_type": "code",
   "execution_count": 2,
   "id": "ca035d08",
   "metadata": {
    "execution": {
     "iopub.execute_input": "2025-06-18T15:44:24.821458Z",
     "iopub.status.busy": "2025-06-18T15:44:24.820991Z",
     "iopub.status.idle": "2025-06-18T15:44:24.826822Z",
     "shell.execute_reply": "2025-06-18T15:44:24.826201Z"
    },
    "papermill": {
     "duration": 0.013589,
     "end_time": "2025-06-18T15:44:24.827826",
     "exception": false,
     "start_time": "2025-06-18T15:44:24.814237",
     "status": "completed"
    },
    "tags": []
   },
   "outputs": [],
   "source": [
    "# Config class to store all constant values and hyperparameters \n",
    "# used throughout the project (e.g., dataset paths, model settings, training parameters).\n",
    "class Config:\n",
    "    \n",
    "    #LABELS = {\"0\" : \"Airplane\",\n",
    "      #      \"1\": \"Automobile\",\n",
    "       #       \"2\":\"Bird\",\n",
    "        #      \"3\":\"Cat\",\n",
    "         #     \"4\":\"Deer\",\n",
    "          #    \"5\":\"Dog\",\n",
    "           #   \"6\":\"Frog\",\n",
    "            #  \"7\":\"Horse\",\n",
    "             # \"8\":\"Ship\",\n",
    "              #\"9\":\"Truck\",}\n",
    "    \n",
    "    LABELS = [\"Airplane\" , \"Automobile\" , \"Bird\" , \"Cat\" \n",
    "              , \"Deer\" , \"Dog\" , \"Frog\" , \"Horse\" , \"Ship\" , \"Truck\"]\n",
    "    \n",
    "    EPOCHS = 50\n",
    "\n",
    "    NUM_CLASSES = 10\n",
    "\n",
    "    INPUT_SHAPE = (32,32,3)\n",
    "\n",
    "    BATCH_SIZE = 128\n",
    "\n",
    "    FILTER_SIZE_1 = 32\n",
    "\n",
    "    FILTER_SIZE_2 = 64\n",
    "\n",
    "    FILTER_SIZE_3 = 128\n",
    "    \n",
    "    \n",
    "                 \n",
    "                \n",
    "    def __init__(self):\n",
    "        pass\n",
    "    @classmethod\n",
    "    def get_labels(cls):\n",
    "        return cls.LABELS\n",
    "    @classmethod\n",
    "    def get_epochs(cls):\n",
    "        return cls.EPOCHS\n",
    "    @classmethod\n",
    "    def get_num_classes(cls):\n",
    "        return cls.NUM_CLASSES\n",
    "    @classmethod\n",
    "    def get_input_shape(cls):\n",
    "        return cls.INPUT_SHAPE\n",
    "    @classmethod\n",
    "    def get_batch_size(cls):\n",
    "        return cls.BATCH_SIZE\n",
    "    @classmethod\n",
    "    def get_filter_1(cls):\n",
    "        return cls.FILTER_SIZE_1\n",
    "    @classmethod\n",
    "    def get_filter_2(cls):\n",
    "        return cls.FILTER_SIZE_2\n",
    "    @classmethod\n",
    "    def get_filter_3(cls):\n",
    "        return cls.FILTER_SIZE_3\n",
    "\n",
    "    "
   ]
  },
  {
   "cell_type": "code",
   "execution_count": 3,
   "id": "117a5a49",
   "metadata": {
    "execution": {
     "iopub.execute_input": "2025-06-18T15:44:24.840036Z",
     "iopub.status.busy": "2025-06-18T15:44:24.839833Z",
     "iopub.status.idle": "2025-06-18T15:44:24.843692Z",
     "shell.execute_reply": "2025-06-18T15:44:24.843142Z"
    },
    "papermill": {
     "duration": 0.011111,
     "end_time": "2025-06-18T15:44:24.844676",
     "exception": false,
     "start_time": "2025-06-18T15:44:24.833565",
     "status": "completed"
    },
    "tags": []
   },
   "outputs": [],
   "source": [
    "#DataLoader class that loads cifar-10 from api\n",
    "class DataLoader:\n",
    "    def __init__(self):\n",
    "        pass\n",
    "    @staticmethod\n",
    "    def data_loader(x_train):\n",
    "        if isinstance(x_train , pd.DataFrame):\n",
    "            print(\"There is no need to load data again\")\n",
    "            return (x_train , y_train) , (x_test , y_test)\n",
    "        else:\n",
    "            print(\"Img data is loading...\")\n",
    "            return cifar10.load_data()"
   ]
  },
  {
   "cell_type": "code",
   "execution_count": 4,
   "id": "7f802b44",
   "metadata": {
    "execution": {
     "iopub.execute_input": "2025-06-18T15:44:24.856958Z",
     "iopub.status.busy": "2025-06-18T15:44:24.856731Z",
     "iopub.status.idle": "2025-06-18T15:44:30.154934Z",
     "shell.execute_reply": "2025-06-18T15:44:30.154356Z"
    },
    "papermill": {
     "duration": 5.305812,
     "end_time": "2025-06-18T15:44:30.156238",
     "exception": false,
     "start_time": "2025-06-18T15:44:24.850426",
     "status": "completed"
    },
    "tags": []
   },
   "outputs": [
    {
     "name": "stdout",
     "output_type": "stream",
     "text": [
      "Img data is loading...\n",
      "Downloading data from https://www.cs.toronto.edu/~kriz/cifar-10-python.tar.gz\n",
      "\u001b[1m170498071/170498071\u001b[0m \u001b[32m━━━━━━━━━━━━━━━━━━━━\u001b[0m\u001b[37m\u001b[0m \u001b[1m3s\u001b[0m 0us/step\n"
     ]
    }
   ],
   "source": [
    "x_train = []\n",
    "(x_train, y_train), (x_test, y_test) = DataLoader.data_loader(x_train)"
   ]
  },
  {
   "cell_type": "markdown",
   "id": "1df9ff49",
   "metadata": {
    "papermill": {
     "duration": 0.008738,
     "end_time": "2025-06-18T15:44:30.173984",
     "exception": false,
     "start_time": "2025-06-18T15:44:30.165246",
     "status": "completed"
    },
    "tags": []
   },
   "source": [
    "## EDA and Visualization"
   ]
  },
  {
   "cell_type": "code",
   "execution_count": 5,
   "id": "274e7666",
   "metadata": {
    "execution": {
     "iopub.execute_input": "2025-06-18T15:44:30.191351Z",
     "iopub.status.busy": "2025-06-18T15:44:30.191091Z",
     "iopub.status.idle": "2025-06-18T15:44:30.198081Z",
     "shell.execute_reply": "2025-06-18T15:44:30.197603Z"
    },
    "papermill": {
     "duration": 0.016969,
     "end_time": "2025-06-18T15:44:30.199027",
     "exception": false,
     "start_time": "2025-06-18T15:44:30.182058",
     "status": "completed"
    },
    "tags": []
   },
   "outputs": [],
   "source": [
    "#Helper methods for data preprocessing, like softmax-to-one-hot conversion.\n",
    "class DataUtils:\n",
    "    \n",
    "    def __init__(self):\n",
    "        pass\n",
    "    @staticmethod\n",
    "    def reshaper(x_train , x_test , *args):\n",
    "        if x_train is pd.DataFrame:\n",
    "            raise TypeError(\"Values are pandas DataFrame they should be Numpy arrays\")\n",
    "\n",
    "        x_train = x_train.reshape(-1,*args)\n",
    "        x_test = x_test.reshape(-1,*args)\n",
    "            \n",
    "        \n",
    "        return x_train , x_test\n",
    "    #nparray to pd dataframe converter\n",
    "    @staticmethod\n",
    "    def nparray_to_pd_dataframe(x_train,y_train,x_test,y_test):\n",
    "        try:\n",
    "            assert type(x_train) != pd.core.frame.DataFrame\n",
    "        except AssertionError:\n",
    "            print(\"Error train and test attributes are already a pandas dataframe\")\n",
    "            \n",
    "        except:\n",
    "            print(\"Some error occurded\")\n",
    "            \n",
    "        else:\n",
    "            x_train , x_test = DataUtils.reshaper(x_train , x_test,3072)\n",
    "            x_train = pd.DataFrame(x_train)\n",
    "            x_test = pd.DataFrame(x_test)\n",
    "            y_train = pd.DataFrame(y_train)\n",
    "            y_test = pd.DataFrame(y_test)\n",
    "            return x_train,y_train,x_test,y_test\n",
    "      #Normalizer function\n",
    "    @staticmethod\n",
    "    def rescaler(df):\n",
    "        try:\n",
    "            if df is pd.DataFrame:\n",
    "                assert df.iloc[1,2]>1\n",
    "            else:\n",
    "                assert df[0][0][0][0]>1\n",
    "                \n",
    "        except AssertionError:\n",
    "            print(\"Data is Already Normalized\")\n",
    "            return df\n",
    "        except:\n",
    "            print(\"Some Error occurded\")\n",
    "            return df\n",
    "        else:\n",
    "            return df/255\n",
    "    @staticmethod\n",
    "    def softmax_to_one_hot_encoding(input):\n",
    "        temp = np.zeros_like(input)\n",
    "        temp[np.argmax(input)] = 1\n",
    "        return temp\n",
    "    @staticmethod\n",
    "    def int_to_one_hot_encoding(input , lenght):\n",
    "        temp = np.zeros(lenght)\n",
    "        temp[input] = 1\n",
    "        return temp\n",
    "        \n",
    "    \n",
    "        "
   ]
  },
  {
   "cell_type": "code",
   "execution_count": 6,
   "id": "bb9c75d9",
   "metadata": {
    "execution": {
     "iopub.execute_input": "2025-06-18T15:44:30.215777Z",
     "iopub.status.busy": "2025-06-18T15:44:30.215572Z",
     "iopub.status.idle": "2025-06-18T15:44:30.220647Z",
     "shell.execute_reply": "2025-06-18T15:44:30.219982Z"
    },
    "papermill": {
     "duration": 0.014627,
     "end_time": "2025-06-18T15:44:30.221649",
     "exception": false,
     "start_time": "2025-06-18T15:44:30.207022",
     "status": "completed"
    },
    "tags": []
   },
   "outputs": [],
   "source": [
    "#To visualize our data\n",
    "class Visualization:\n",
    "    def __init__(self):\n",
    "        pass\n",
    "    @staticmethod\n",
    "    def class_distibution_visualization(df,label):\n",
    "        plt.pie(df.value_counts(),autopct = '%1.1f%%')\n",
    "        plt.title(label)\n",
    "        print(f\"Number of samples :  {len(df)}\")\n",
    "        plt.show()\n",
    "    @staticmethod\n",
    "    def some_samples(x,y):\n",
    "        for i in range(1,10):\n",
    "            labels = Config.get_labels()\n",
    "            index = np.random.randint(0,x.shape[0])\n",
    "            img = x.T[index].to_numpy().reshape(32,32,3)\n",
    "            plt.subplot(3,3,i)\n",
    "            plt.axis(\"off\")\n",
    "            plt.title(labels[y.iloc[index][0]])\n",
    "            plt.imshow(img)\n",
    "        plt.tight_layout()\n",
    "        plt.show()"
   ]
  },
  {
   "cell_type": "code",
   "execution_count": 7,
   "id": "0f7496d0",
   "metadata": {
    "execution": {
     "iopub.execute_input": "2025-06-18T15:44:30.240174Z",
     "iopub.status.busy": "2025-06-18T15:44:30.239963Z",
     "iopub.status.idle": "2025-06-18T15:44:30.749358Z",
     "shell.execute_reply": "2025-06-18T15:44:30.748791Z"
    },
    "papermill": {
     "duration": 0.521043,
     "end_time": "2025-06-18T15:44:30.750729",
     "exception": false,
     "start_time": "2025-06-18T15:44:30.229686",
     "status": "completed"
    },
    "tags": []
   },
   "outputs": [],
   "source": [
    "dfx_train,dfy_train,dfx_test,dfy_test = \\\n",
    "    DataUtils.nparray_to_pd_dataframe(x_train,y_train,x_test,y_test)    "
   ]
  },
  {
   "cell_type": "code",
   "execution_count": 8,
   "id": "68f9d7ba",
   "metadata": {
    "execution": {
     "iopub.execute_input": "2025-06-18T15:44:30.768023Z",
     "iopub.status.busy": "2025-06-18T15:44:30.767763Z",
     "iopub.status.idle": "2025-06-18T15:44:30.967097Z",
     "shell.execute_reply": "2025-06-18T15:44:30.966363Z"
    },
    "papermill": {
     "duration": 0.209074,
     "end_time": "2025-06-18T15:44:30.968209",
     "exception": false,
     "start_time": "2025-06-18T15:44:30.759135",
     "status": "completed"
    },
    "tags": []
   },
   "outputs": [
    {
     "name": "stdout",
     "output_type": "stream",
     "text": [
      "Number of samples :  50000\n"
     ]
    },
    {
     "data": {
      "image/png": "[encoded data removed]",
      "text/plain": [
       "<Figure size 640x480 with 1 Axes>"
      ]
     },
     "metadata": {},
     "output_type": "display_data"
    }
   ],
   "source": [
    "#class_distribution_visualization for y_train\n",
    "Visualization.class_distibution_visualization(dfy_train , \"Class Distribution for y_train\")"
   ]
  },
  {
   "cell_type": "code",
   "execution_count": 9,
   "id": "8c9ba9cc",
   "metadata": {
    "execution": {
     "iopub.execute_input": "2025-06-18T15:44:30.987371Z",
     "iopub.status.busy": "2025-06-18T15:44:30.986771Z",
     "iopub.status.idle": "2025-06-18T15:44:31.088337Z",
     "shell.execute_reply": "2025-06-18T15:44:31.087709Z"
    },
    "papermill": {
     "duration": 0.11188,
     "end_time": "2025-06-18T15:44:31.089418",
     "exception": false,
     "start_time": "2025-06-18T15:44:30.977538",
     "status": "completed"
    },
    "tags": []
   },
   "outputs": [
    {
     "name": "stdout",
     "output_type": "stream",
     "text": [
      "Number of samples :  10000\n"
     ]
    },
    {
     "data": {
      "image/png": "[encoded data removed]",
      "text/plain": [
       "<Figure size 640x480 with 1 Axes>"
      ]
     },
     "metadata": {},
     "output_type": "display_data"
    }
   ],
   "source": [
    "#class_distibution_visualization for y_test\n",
    "Visualization.class_distibution_visualization(dfy_test , \"Class Distribution for y_test\")"
   ]
  },
  {
   "cell_type": "code",
   "execution_count": 10,
   "id": "7d36690d",
   "metadata": {
    "execution": {
     "iopub.execute_input": "2025-06-18T15:44:31.109847Z",
     "iopub.status.busy": "2025-06-18T15:44:31.109664Z",
     "iopub.status.idle": "2025-06-18T15:44:31.510755Z",
     "shell.execute_reply": "2025-06-18T15:44:31.509986Z"
    },
    "papermill": {
     "duration": 0.413425,
     "end_time": "2025-06-18T15:44:31.512691",
     "exception": false,
     "start_time": "2025-06-18T15:44:31.099266",
     "status": "completed"
    },
    "tags": []
   },
   "outputs": [
    {
     "data": {
      "image/png": "[encoded data removed]",
      "text/plain": [
       "<Figure size 640x480 with 9 Axes>"
      ]
     },
     "metadata": {},
     "output_type": "display_data"
    }
   ],
   "source": [
    "#Some samples\n",
    "Visualization.some_samples(dfx_train , dfy_train)"
   ]
  },
  {
   "cell_type": "code",
   "execution_count": 11,
   "id": "6886ccf0",
   "metadata": {
    "execution": {
     "iopub.execute_input": "2025-06-18T15:44:31.535614Z",
     "iopub.status.busy": "2025-06-18T15:44:31.535364Z",
     "iopub.status.idle": "2025-06-18T15:44:39.659473Z",
     "shell.execute_reply": "2025-06-18T15:44:39.658754Z"
    },
    "papermill": {
     "duration": 8.136515,
     "end_time": "2025-06-18T15:44:39.660579",
     "exception": false,
     "start_time": "2025-06-18T15:44:31.524064",
     "status": "completed"
    },
    "tags": []
   },
   "outputs": [
    {
     "data": {
      "text/html": [
       "<div>\n",
       "<style scoped>\n",
       "    .dataframe tbody tr th:only-of-type {\n",
       "        vertical-align: middle;\n",
       "    }\n",
       "\n",
       "    .dataframe tbody tr th {\n",
       "        vertical-align: top;\n",
       "    }\n",
       "\n",
       "    .dataframe thead th {\n",
       "        text-align: right;\n",
       "    }\n",
       "</style>\n",
       "<table border=\"1\" class=\"dataframe\">\n",
       "  <thead>\n",
       "    <tr style=\"text-align: right;\">\n",
       "      <th></th>\n",
       "      <th>0</th>\n",
       "      <th>1</th>\n",
       "      <th>2</th>\n",
       "      <th>3</th>\n",
       "      <th>4</th>\n",
       "      <th>5</th>\n",
       "      <th>6</th>\n",
       "      <th>7</th>\n",
       "      <th>8</th>\n",
       "      <th>9</th>\n",
       "      <th>...</th>\n",
       "      <th>3062</th>\n",
       "      <th>3063</th>\n",
       "      <th>3064</th>\n",
       "      <th>3065</th>\n",
       "      <th>3066</th>\n",
       "      <th>3067</th>\n",
       "      <th>3068</th>\n",
       "      <th>3069</th>\n",
       "      <th>3070</th>\n",
       "      <th>3071</th>\n",
       "    </tr>\n",
       "  </thead>\n",
       "  <tbody>\n",
       "    <tr>\n",
       "      <th>count</th>\n",
       "      <td>50000.000000</td>\n",
       "      <td>50000.00000</td>\n",
       "      <td>50000.000000</td>\n",
       "      <td>50000.00000</td>\n",
       "      <td>50000.000000</td>\n",
       "      <td>50000.000000</td>\n",
       "      <td>50000.000000</td>\n",
       "      <td>50000.00000</td>\n",
       "      <td>50000.000000</td>\n",
       "      <td>50000.000000</td>\n",
       "      <td>...</td>\n",
       "      <td>50000.000000</td>\n",
       "      <td>50000.000000</td>\n",
       "      <td>50000.000000</td>\n",
       "      <td>50000.000000</td>\n",
       "      <td>50000.000000</td>\n",
       "      <td>50000.000000</td>\n",
       "      <td>50000.000000</td>\n",
       "      <td>50000.000000</td>\n",
       "      <td>50000.000000</td>\n",
       "      <td>50000.000000</td>\n",
       "    </tr>\n",
       "    <tr>\n",
       "      <th>mean</th>\n",
       "      <td>130.710740</td>\n",
       "      <td>136.05614</td>\n",
       "      <td>132.553800</td>\n",
       "      <td>130.14036</td>\n",
       "      <td>135.442380</td>\n",
       "      <td>131.853580</td>\n",
       "      <td>131.050440</td>\n",
       "      <td>136.24616</td>\n",
       "      <td>132.581440</td>\n",
       "      <td>131.568860</td>\n",
       "      <td>...</td>\n",
       "      <td>113.877800</td>\n",
       "      <td>126.778360</td>\n",
       "      <td>125.697080</td>\n",
       "      <td>113.830580</td>\n",
       "      <td>126.564960</td>\n",
       "      <td>125.617420</td>\n",
       "      <td>113.906240</td>\n",
       "      <td>126.639080</td>\n",
       "      <td>125.850300</td>\n",
       "      <td>114.381860</td>\n",
       "    </tr>\n",
       "    <tr>\n",
       "      <th>std</th>\n",
       "      <td>73.412873</td>\n",
       "      <td>72.90798</td>\n",
       "      <td>80.449751</td>\n",
       "      <td>72.44259</td>\n",
       "      <td>71.901316</td>\n",
       "      <td>79.598048</td>\n",
       "      <td>72.240546</td>\n",
       "      <td>71.67471</td>\n",
       "      <td>79.434675</td>\n",
       "      <td>72.016555</td>\n",
       "      <td>...</td>\n",
       "      <td>64.738943</td>\n",
       "      <td>63.954763</td>\n",
       "      <td>61.591233</td>\n",
       "      <td>64.894603</td>\n",
       "      <td>64.178427</td>\n",
       "      <td>61.831646</td>\n",
       "      <td>65.212671</td>\n",
       "      <td>64.926283</td>\n",
       "      <td>62.649286</td>\n",
       "      <td>66.077526</td>\n",
       "    </tr>\n",
       "    <tr>\n",
       "      <th>min</th>\n",
       "      <td>0.000000</td>\n",
       "      <td>0.00000</td>\n",
       "      <td>0.000000</td>\n",
       "      <td>0.00000</td>\n",
       "      <td>0.000000</td>\n",
       "      <td>0.000000</td>\n",
       "      <td>0.000000</td>\n",
       "      <td>0.00000</td>\n",
       "      <td>0.000000</td>\n",
       "      <td>0.000000</td>\n",
       "      <td>...</td>\n",
       "      <td>0.000000</td>\n",
       "      <td>0.000000</td>\n",
       "      <td>0.000000</td>\n",
       "      <td>0.000000</td>\n",
       "      <td>0.000000</td>\n",
       "      <td>0.000000</td>\n",
       "      <td>0.000000</td>\n",
       "      <td>0.000000</td>\n",
       "      <td>0.000000</td>\n",
       "      <td>0.000000</td>\n",
       "    </tr>\n",
       "    <tr>\n",
       "      <th>25%</th>\n",
       "      <td>71.000000</td>\n",
       "      <td>77.00000</td>\n",
       "      <td>61.000000</td>\n",
       "      <td>71.00000</td>\n",
       "      <td>78.000000</td>\n",
       "      <td>61.000000</td>\n",
       "      <td>73.000000</td>\n",
       "      <td>79.00000</td>\n",
       "      <td>62.000000</td>\n",
       "      <td>73.000000</td>\n",
       "      <td>...</td>\n",
       "      <td>64.000000</td>\n",
       "      <td>79.000000</td>\n",
       "      <td>81.000000</td>\n",
       "      <td>64.000000</td>\n",
       "      <td>79.000000</td>\n",
       "      <td>81.000000</td>\n",
       "      <td>64.000000</td>\n",
       "      <td>78.000000</td>\n",
       "      <td>80.000000</td>\n",
       "      <td>63.000000</td>\n",
       "    </tr>\n",
       "    <tr>\n",
       "      <th>50%</th>\n",
       "      <td>128.000000</td>\n",
       "      <td>135.00000</td>\n",
       "      <td>127.000000</td>\n",
       "      <td>127.00000</td>\n",
       "      <td>135.000000</td>\n",
       "      <td>127.000000</td>\n",
       "      <td>129.000000</td>\n",
       "      <td>136.00000</td>\n",
       "      <td>128.000000</td>\n",
       "      <td>130.000000</td>\n",
       "      <td>...</td>\n",
       "      <td>106.000000</td>\n",
       "      <td>124.000000</td>\n",
       "      <td>123.000000</td>\n",
       "      <td>106.000000</td>\n",
       "      <td>124.000000</td>\n",
       "      <td>123.000000</td>\n",
       "      <td>106.000000</td>\n",
       "      <td>124.000000</td>\n",
       "      <td>123.000000</td>\n",
       "      <td>106.000000</td>\n",
       "    </tr>\n",
       "    <tr>\n",
       "      <th>75%</th>\n",
       "      <td>189.000000</td>\n",
       "      <td>195.00000</td>\n",
       "      <td>207.000000</td>\n",
       "      <td>188.00000</td>\n",
       "      <td>193.000000</td>\n",
       "      <td>206.000000</td>\n",
       "      <td>188.000000</td>\n",
       "      <td>194.00000</td>\n",
       "      <td>206.000000</td>\n",
       "      <td>188.000000</td>\n",
       "      <td>...</td>\n",
       "      <td>157.000000</td>\n",
       "      <td>172.000000</td>\n",
       "      <td>167.000000</td>\n",
       "      <td>157.000000</td>\n",
       "      <td>172.000000</td>\n",
       "      <td>167.000000</td>\n",
       "      <td>157.000000</td>\n",
       "      <td>172.000000</td>\n",
       "      <td>168.000000</td>\n",
       "      <td>158.000000</td>\n",
       "    </tr>\n",
       "    <tr>\n",
       "      <th>max</th>\n",
       "      <td>255.000000</td>\n",
       "      <td>255.00000</td>\n",
       "      <td>255.000000</td>\n",
       "      <td>255.00000</td>\n",
       "      <td>255.000000</td>\n",
       "      <td>255.000000</td>\n",
       "      <td>255.000000</td>\n",
       "      <td>255.00000</td>\n",
       "      <td>255.000000</td>\n",
       "      <td>255.000000</td>\n",
       "      <td>...</td>\n",
       "      <td>255.000000</td>\n",
       "      <td>255.000000</td>\n",
       "      <td>255.000000</td>\n",
       "      <td>255.000000</td>\n",
       "      <td>255.000000</td>\n",
       "      <td>255.000000</td>\n",
       "      <td>255.000000</td>\n",
       "      <td>255.000000</td>\n",
       "      <td>255.000000</td>\n",
       "      <td>255.000000</td>\n",
       "    </tr>\n",
       "  </tbody>\n",
       "</table>\n",
       "<p>8 rows × 3072 columns</p>\n",
       "</div>"
      ],
      "text/plain": [
       "               0            1             2            3             4     \\\n",
       "count  50000.000000  50000.00000  50000.000000  50000.00000  50000.000000   \n",
       "mean     130.710740    136.05614    132.553800    130.14036    135.442380   \n",
       "std       73.412873     72.90798     80.449751     72.44259     71.901316   \n",
       "min        0.000000      0.00000      0.000000      0.00000      0.000000   \n",
       "25%       71.000000     77.00000     61.000000     71.00000     78.000000   \n",
       "50%      128.000000    135.00000    127.000000    127.00000    135.000000   \n",
       "75%      189.000000    195.00000    207.000000    188.00000    193.000000   \n",
       "max      255.000000    255.00000    255.000000    255.00000    255.000000   \n",
       "\n",
       "               5             6            7             8             9     \\\n",
       "count  50000.000000  50000.000000  50000.00000  50000.000000  50000.000000   \n",
       "mean     131.853580    131.050440    136.24616    132.581440    131.568860   \n",
       "std       79.598048     72.240546     71.67471     79.434675     72.016555   \n",
       "min        0.000000      0.000000      0.00000      0.000000      0.000000   \n",
       "25%       61.000000     73.000000     79.00000     62.000000     73.000000   \n",
       "50%      127.000000    129.000000    136.00000    128.000000    130.000000   \n",
       "75%      206.000000    188.000000    194.00000    206.000000    188.000000   \n",
       "max      255.000000    255.000000    255.00000    255.000000    255.000000   \n",
       "\n",
       "       ...          3062          3063          3064          3065  \\\n",
       "count  ...  50000.000000  50000.000000  50000.000000  50000.000000   \n",
       "mean   ...    113.877800    126.778360    125.697080    113.830580   \n",
       "std    ...     64.738943     63.954763     61.591233     64.894603   \n",
       "min    ...      0.000000      0.000000      0.000000      0.000000   \n",
       "25%    ...     64.000000     79.000000     81.000000     64.000000   \n",
       "50%    ...    106.000000    124.000000    123.000000    106.000000   \n",
       "75%    ...    157.000000    172.000000    167.000000    157.000000   \n",
       "max    ...    255.000000    255.000000    255.000000    255.000000   \n",
       "\n",
       "               3066          3067          3068          3069          3070  \\\n",
       "count  50000.000000  50000.000000  50000.000000  50000.000000  50000.000000   \n",
       "mean     126.564960    125.617420    113.906240    126.639080    125.850300   \n",
       "std       64.178427     61.831646     65.212671     64.926283     62.649286   \n",
       "min        0.000000      0.000000      0.000000      0.000000      0.000000   \n",
       "25%       79.000000     81.000000     64.000000     78.000000     80.000000   \n",
       "50%      124.000000    123.000000    106.000000    124.000000    123.000000   \n",
       "75%      172.000000    167.000000    157.000000    172.000000    168.000000   \n",
       "max      255.000000    255.000000    255.000000    255.000000    255.000000   \n",
       "\n",
       "               3071  \n",
       "count  50000.000000  \n",
       "mean     114.381860  \n",
       "std       66.077526  \n",
       "min        0.000000  \n",
       "25%       63.000000  \n",
       "50%      106.000000  \n",
       "75%      158.000000  \n",
       "max      255.000000  \n",
       "\n",
       "[8 rows x 3072 columns]"
      ]
     },
     "execution_count": 11,
     "metadata": {},
     "output_type": "execute_result"
    }
   ],
   "source": [
    "dfx_train.describe()"
   ]
  },
  {
   "cell_type": "code",
   "execution_count": 12,
   "id": "76290b85",
   "metadata": {
    "execution": {
     "iopub.execute_input": "2025-06-18T15:44:39.684921Z",
     "iopub.status.busy": "2025-06-18T15:44:39.684693Z",
     "iopub.status.idle": "2025-06-18T15:44:44.054080Z",
     "shell.execute_reply": "2025-06-18T15:44:44.053366Z"
    },
    "papermill": {
     "duration": 4.382567,
     "end_time": "2025-06-18T15:44:44.055200",
     "exception": false,
     "start_time": "2025-06-18T15:44:39.672633",
     "status": "completed"
    },
    "tags": []
   },
   "outputs": [
    {
     "data": {
      "text/html": [
       "<div>\n",
       "<style scoped>\n",
       "    .dataframe tbody tr th:only-of-type {\n",
       "        vertical-align: middle;\n",
       "    }\n",
       "\n",
       "    .dataframe tbody tr th {\n",
       "        vertical-align: top;\n",
       "    }\n",
       "\n",
       "    .dataframe thead th {\n",
       "        text-align: right;\n",
       "    }\n",
       "</style>\n",
       "<table border=\"1\" class=\"dataframe\">\n",
       "  <thead>\n",
       "    <tr style=\"text-align: right;\">\n",
       "      <th></th>\n",
       "      <th>0</th>\n",
       "      <th>1</th>\n",
       "      <th>2</th>\n",
       "      <th>3</th>\n",
       "      <th>4</th>\n",
       "      <th>5</th>\n",
       "      <th>6</th>\n",
       "      <th>7</th>\n",
       "      <th>8</th>\n",
       "      <th>9</th>\n",
       "      <th>...</th>\n",
       "      <th>3062</th>\n",
       "      <th>3063</th>\n",
       "      <th>3064</th>\n",
       "      <th>3065</th>\n",
       "      <th>3066</th>\n",
       "      <th>3067</th>\n",
       "      <th>3068</th>\n",
       "      <th>3069</th>\n",
       "      <th>3070</th>\n",
       "      <th>3071</th>\n",
       "    </tr>\n",
       "  </thead>\n",
       "  <tbody>\n",
       "    <tr>\n",
       "      <th>count</th>\n",
       "      <td>10000.000000</td>\n",
       "      <td>10000.000000</td>\n",
       "      <td>10000.000000</td>\n",
       "      <td>10000.000000</td>\n",
       "      <td>10000.000000</td>\n",
       "      <td>10000.00000</td>\n",
       "      <td>10000.000000</td>\n",
       "      <td>10000.00000</td>\n",
       "      <td>10000.000000</td>\n",
       "      <td>10000.000000</td>\n",
       "      <td>...</td>\n",
       "      <td>10000.000000</td>\n",
       "      <td>10000.000000</td>\n",
       "      <td>10000.000000</td>\n",
       "      <td>10000.000000</td>\n",
       "      <td>10000.000000</td>\n",
       "      <td>10000.000000</td>\n",
       "      <td>10000.000000</td>\n",
       "      <td>10000.000000</td>\n",
       "      <td>10000.000000</td>\n",
       "      <td>10000.000000</td>\n",
       "    </tr>\n",
       "    <tr>\n",
       "      <th>mean</th>\n",
       "      <td>130.535400</td>\n",
       "      <td>136.046200</td>\n",
       "      <td>132.830000</td>\n",
       "      <td>129.993900</td>\n",
       "      <td>135.511300</td>\n",
       "      <td>132.23110</td>\n",
       "      <td>131.145000</td>\n",
       "      <td>136.65770</td>\n",
       "      <td>133.233700</td>\n",
       "      <td>132.146800</td>\n",
       "      <td>...</td>\n",
       "      <td>114.760400</td>\n",
       "      <td>127.121400</td>\n",
       "      <td>126.143700</td>\n",
       "      <td>114.844100</td>\n",
       "      <td>126.517300</td>\n",
       "      <td>125.758800</td>\n",
       "      <td>114.776000</td>\n",
       "      <td>126.548300</td>\n",
       "      <td>126.002600</td>\n",
       "      <td>115.327100</td>\n",
       "    </tr>\n",
       "    <tr>\n",
       "      <th>std</th>\n",
       "      <td>73.333214</td>\n",
       "      <td>72.690423</td>\n",
       "      <td>80.134163</td>\n",
       "      <td>72.397388</td>\n",
       "      <td>71.740927</td>\n",
       "      <td>79.18629</td>\n",
       "      <td>72.288499</td>\n",
       "      <td>71.63948</td>\n",
       "      <td>79.172435</td>\n",
       "      <td>71.739001</td>\n",
       "      <td>...</td>\n",
       "      <td>64.333828</td>\n",
       "      <td>63.462211</td>\n",
       "      <td>60.866895</td>\n",
       "      <td>64.443142</td>\n",
       "      <td>63.784916</td>\n",
       "      <td>61.196315</td>\n",
       "      <td>64.911164</td>\n",
       "      <td>64.601056</td>\n",
       "      <td>62.021345</td>\n",
       "      <td>65.662591</td>\n",
       "    </tr>\n",
       "    <tr>\n",
       "      <th>min</th>\n",
       "      <td>0.000000</td>\n",
       "      <td>0.000000</td>\n",
       "      <td>0.000000</td>\n",
       "      <td>0.000000</td>\n",
       "      <td>0.000000</td>\n",
       "      <td>0.00000</td>\n",
       "      <td>0.000000</td>\n",
       "      <td>0.00000</td>\n",
       "      <td>0.000000</td>\n",
       "      <td>0.000000</td>\n",
       "      <td>...</td>\n",
       "      <td>0.000000</td>\n",
       "      <td>0.000000</td>\n",
       "      <td>0.000000</td>\n",
       "      <td>0.000000</td>\n",
       "      <td>0.000000</td>\n",
       "      <td>0.000000</td>\n",
       "      <td>0.000000</td>\n",
       "      <td>0.000000</td>\n",
       "      <td>0.000000</td>\n",
       "      <td>0.000000</td>\n",
       "    </tr>\n",
       "    <tr>\n",
       "      <th>25%</th>\n",
       "      <td>70.000000</td>\n",
       "      <td>78.000000</td>\n",
       "      <td>62.000000</td>\n",
       "      <td>71.000000</td>\n",
       "      <td>79.000000</td>\n",
       "      <td>62.00000</td>\n",
       "      <td>73.000000</td>\n",
       "      <td>80.00000</td>\n",
       "      <td>63.000000</td>\n",
       "      <td>75.000000</td>\n",
       "      <td>...</td>\n",
       "      <td>65.000000</td>\n",
       "      <td>79.000000</td>\n",
       "      <td>82.000000</td>\n",
       "      <td>65.000000</td>\n",
       "      <td>79.000000</td>\n",
       "      <td>81.000000</td>\n",
       "      <td>65.000000</td>\n",
       "      <td>78.000000</td>\n",
       "      <td>81.000000</td>\n",
       "      <td>65.000000</td>\n",
       "    </tr>\n",
       "    <tr>\n",
       "      <th>50%</th>\n",
       "      <td>127.000000</td>\n",
       "      <td>135.000000</td>\n",
       "      <td>128.000000</td>\n",
       "      <td>127.000000</td>\n",
       "      <td>135.000000</td>\n",
       "      <td>128.00000</td>\n",
       "      <td>128.000000</td>\n",
       "      <td>136.00000</td>\n",
       "      <td>129.000000</td>\n",
       "      <td>129.000000</td>\n",
       "      <td>...</td>\n",
       "      <td>107.000000</td>\n",
       "      <td>124.000000</td>\n",
       "      <td>123.000000</td>\n",
       "      <td>106.000000</td>\n",
       "      <td>123.000000</td>\n",
       "      <td>122.000000</td>\n",
       "      <td>106.000000</td>\n",
       "      <td>123.000000</td>\n",
       "      <td>123.000000</td>\n",
       "      <td>106.000000</td>\n",
       "    </tr>\n",
       "    <tr>\n",
       "      <th>75%</th>\n",
       "      <td>188.000000</td>\n",
       "      <td>195.000000</td>\n",
       "      <td>207.000000</td>\n",
       "      <td>187.000000</td>\n",
       "      <td>193.000000</td>\n",
       "      <td>205.00000</td>\n",
       "      <td>189.000000</td>\n",
       "      <td>195.00000</td>\n",
       "      <td>206.250000</td>\n",
       "      <td>190.000000</td>\n",
       "      <td>...</td>\n",
       "      <td>158.000000</td>\n",
       "      <td>172.000000</td>\n",
       "      <td>167.000000</td>\n",
       "      <td>158.000000</td>\n",
       "      <td>172.000000</td>\n",
       "      <td>167.000000</td>\n",
       "      <td>158.000000</td>\n",
       "      <td>171.000000</td>\n",
       "      <td>168.000000</td>\n",
       "      <td>160.000000</td>\n",
       "    </tr>\n",
       "    <tr>\n",
       "      <th>max</th>\n",
       "      <td>255.000000</td>\n",
       "      <td>255.000000</td>\n",
       "      <td>255.000000</td>\n",
       "      <td>255.000000</td>\n",
       "      <td>255.000000</td>\n",
       "      <td>255.00000</td>\n",
       "      <td>255.000000</td>\n",
       "      <td>255.00000</td>\n",
       "      <td>255.000000</td>\n",
       "      <td>255.000000</td>\n",
       "      <td>...</td>\n",
       "      <td>255.000000</td>\n",
       "      <td>255.000000</td>\n",
       "      <td>255.000000</td>\n",
       "      <td>255.000000</td>\n",
       "      <td>255.000000</td>\n",
       "      <td>255.000000</td>\n",
       "      <td>255.000000</td>\n",
       "      <td>255.000000</td>\n",
       "      <td>255.000000</td>\n",
       "      <td>255.000000</td>\n",
       "    </tr>\n",
       "  </tbody>\n",
       "</table>\n",
       "<p>8 rows × 3072 columns</p>\n",
       "</div>"
      ],
      "text/plain": [
       "               0             1             2             3             4     \\\n",
       "count  10000.000000  10000.000000  10000.000000  10000.000000  10000.000000   \n",
       "mean     130.535400    136.046200    132.830000    129.993900    135.511300   \n",
       "std       73.333214     72.690423     80.134163     72.397388     71.740927   \n",
       "min        0.000000      0.000000      0.000000      0.000000      0.000000   \n",
       "25%       70.000000     78.000000     62.000000     71.000000     79.000000   \n",
       "50%      127.000000    135.000000    128.000000    127.000000    135.000000   \n",
       "75%      188.000000    195.000000    207.000000    187.000000    193.000000   \n",
       "max      255.000000    255.000000    255.000000    255.000000    255.000000   \n",
       "\n",
       "              5             6            7             8             9     \\\n",
       "count  10000.00000  10000.000000  10000.00000  10000.000000  10000.000000   \n",
       "mean     132.23110    131.145000    136.65770    133.233700    132.146800   \n",
       "std       79.18629     72.288499     71.63948     79.172435     71.739001   \n",
       "min        0.00000      0.000000      0.00000      0.000000      0.000000   \n",
       "25%       62.00000     73.000000     80.00000     63.000000     75.000000   \n",
       "50%      128.00000    128.000000    136.00000    129.000000    129.000000   \n",
       "75%      205.00000    189.000000    195.00000    206.250000    190.000000   \n",
       "max      255.00000    255.000000    255.00000    255.000000    255.000000   \n",
       "\n",
       "       ...          3062          3063          3064          3065  \\\n",
       "count  ...  10000.000000  10000.000000  10000.000000  10000.000000   \n",
       "mean   ...    114.760400    127.121400    126.143700    114.844100   \n",
       "std    ...     64.333828     63.462211     60.866895     64.443142   \n",
       "min    ...      0.000000      0.000000      0.000000      0.000000   \n",
       "25%    ...     65.000000     79.000000     82.000000     65.000000   \n",
       "50%    ...    107.000000    124.000000    123.000000    106.000000   \n",
       "75%    ...    158.000000    172.000000    167.000000    158.000000   \n",
       "max    ...    255.000000    255.000000    255.000000    255.000000   \n",
       "\n",
       "               3066          3067          3068          3069          3070  \\\n",
       "count  10000.000000  10000.000000  10000.000000  10000.000000  10000.000000   \n",
       "mean     126.517300    125.758800    114.776000    126.548300    126.002600   \n",
       "std       63.784916     61.196315     64.911164     64.601056     62.021345   \n",
       "min        0.000000      0.000000      0.000000      0.000000      0.000000   \n",
       "25%       79.000000     81.000000     65.000000     78.000000     81.000000   \n",
       "50%      123.000000    122.000000    106.000000    123.000000    123.000000   \n",
       "75%      172.000000    167.000000    158.000000    171.000000    168.000000   \n",
       "max      255.000000    255.000000    255.000000    255.000000    255.000000   \n",
       "\n",
       "               3071  \n",
       "count  10000.000000  \n",
       "mean     115.327100  \n",
       "std       65.662591  \n",
       "min        0.000000  \n",
       "25%       65.000000  \n",
       "50%      106.000000  \n",
       "75%      160.000000  \n",
       "max      255.000000  \n",
       "\n",
       "[8 rows x 3072 columns]"
      ]
     },
     "execution_count": 12,
     "metadata": {},
     "output_type": "execute_result"
    }
   ],
   "source": [
    "dfx_test.describe()"
   ]
  },
  {
   "cell_type": "markdown",
   "id": "56b96c25",
   "metadata": {
    "papermill": {
     "duration": 0.011572,
     "end_time": "2025-06-18T15:44:44.123551",
     "exception": false,
     "start_time": "2025-06-18T15:44:44.111979",
     "status": "completed"
    },
    "tags": []
   },
   "source": [
    "## Training"
   ]
  },
  {
   "cell_type": "code",
   "execution_count": 13,
   "id": "0d6670ed",
   "metadata": {
    "execution": {
     "iopub.execute_input": "2025-06-18T15:44:44.148055Z",
     "iopub.status.busy": "2025-06-18T15:44:44.147504Z",
     "iopub.status.idle": "2025-06-18T15:44:44.158043Z",
     "shell.execute_reply": "2025-06-18T15:44:44.157359Z"
    },
    "papermill": {
     "duration": 0.024232,
     "end_time": "2025-06-18T15:44:44.159132",
     "exception": false,
     "start_time": "2025-06-18T15:44:44.134900",
     "status": "completed"
    },
    "tags": []
   },
   "outputs": [],
   "source": [
    "#Our model\n",
    "class Model:\n",
    "    def __init__(self , config):\n",
    "        self.config = config\n",
    "        self.model = None\n",
    "    \n",
    "    def build_model(self):\n",
    "        model = Sequential()\n",
    "        \n",
    "        #1. CNN + BatchNormalization + Activation \n",
    "        model.add(Conv2D(kernel_size = (3,3) , filters = self.config.get_filter_1() , input_shape = self.config.get_input_shape(),padding = \"same\"))\n",
    "        model.add(BatchNormalization())\n",
    "        model.add(Activation(\"elu\"))\n",
    "\n",
    "        #2. CNN + BatchNormalization + Activation + Maxpooling\n",
    "        model.add(Conv2D(kernel_size = (3,3) , filters = self.config.get_filter_1()  ,padding = \"same\"))\n",
    "        model.add(BatchNormalization())\n",
    "        model.add(Activation(\"elu\"))\n",
    "        model.add(MaxPool2D(pool_size = (2,2)))\n",
    "\n",
    "\n",
    "        #3. CNN + BatchNormalization + Acvivation\n",
    "        model.add(Conv2D(kernel_size = (3,3) , filters = self.config.get_filter_2()  ,padding = \"same\"))\n",
    "        model.add(BatchNormalization())\n",
    "        model.add(Activation(\"relu\"))\n",
    "\n",
    "        #4. CNN + BatchNormalization + Activation + Dropout\n",
    "        model.add(Conv2D(kernel_size = (3,3) , filters = self.config.get_filter_3()  ,padding = \"same\"))\n",
    "        model.add(BatchNormalization())\n",
    "        model.add(Activation(\"relu\"))\n",
    "        model.add(Dropout(0.1))\n",
    "\n",
    "        #5. CNN + BatchNormalization + Activation + Maxpooling + Dropout\n",
    "        model.add(Conv2D(kernel_size = (3,3) , filters = self.config.get_filter_3() ,padding = \"same\"))\n",
    "        model.add(BatchNormalization())\n",
    "        model.add(Activation(\"relu\"))\n",
    "        model.add(MaxPool2D(pool_size = (2,2)))\n",
    "        model.add(Dropout(0.1))\n",
    "\n",
    "        #5. CNN + BatchNormalization + Activation\n",
    "        model.add(Conv2D(kernel_size = (3,3) , filters = self.config.get_filter_3() ,padding = \"same\"))\n",
    "        model.add(BatchNormalization())\n",
    "        model.add(Activation(\"relu\"))\n",
    "        \n",
    "        #6. CNN + BatchNormalization + Activation\n",
    "        model.add(Conv2D(kernel_size = (3,3) , filters = self.config.get_filter_3() ,padding = \"same\"))\n",
    "        model.add(BatchNormalization())\n",
    "        model.add(Activation(\"relu\"))\n",
    "\n",
    "        #Fully Connected layer\n",
    "        model.add(Flatten())\n",
    "        model.add(Dense(self.config.get_filter_3() , activation = \"relu\"))\n",
    "        model.add(Dense(self.config.get_num_classes(), activation = \"softmax\"))\n",
    "        self.model = model\n",
    "    def compile_model(self):\n",
    "        optimizer = Adam()\n",
    "        if self.model is None:\n",
    "            raise ValueError(\"Error you must build the model first by using build_model function\")\n",
    "            return False\n",
    "        self.model.compile(\n",
    "            loss = \"sparse_categorical_crossentropy\",\n",
    "            optimizer = optimizer,\n",
    "            metrics = [\"accuracy\"],)\n",
    "        \n",
    "    def train_model(self , augmentedimages,x_test , y_test):\n",
    "        if self.model is None:\n",
    "            raise ValueError(\"Error you must build the model first by using build_model function and Use the compile_model to compile model\")\n",
    "        earlystopping = EarlyStopping(\n",
    "            monitor = \"val_accuracy\",\n",
    "            patience = 5,\n",
    "            restore_best_weights=True\n",
    "    \n",
    "        )\n",
    "        history = self.model.fit(augmentedimages,epochs = self.config.get_epochs() ,validation_data = [x_test , y_test],callbacks = [earlystopping])\n",
    "        return history\n",
    "        \n",
    "    def predictfunc(self , X_test):\n",
    "        if self.model is None:\n",
    "            raise ValueError(\"Error you must build the model first by using build_model function and Use the compile_model to compile model\")\n",
    "            return False\n",
    "        y_pred = self.model.predict(X_test)\n",
    "        return y_pred"
   ]
  },
  {
   "cell_type": "code",
   "execution_count": 14,
   "id": "74627ede",
   "metadata": {
    "execution": {
     "iopub.execute_input": "2025-06-18T15:44:44.182795Z",
     "iopub.status.busy": "2025-06-18T15:44:44.182595Z",
     "iopub.status.idle": "2025-06-18T15:44:46.587742Z",
     "shell.execute_reply": "2025-06-18T15:44:46.586956Z"
    },
    "papermill": {
     "duration": 2.418467,
     "end_time": "2025-06-18T15:44:46.589096",
     "exception": false,
     "start_time": "2025-06-18T15:44:44.170629",
     "status": "completed"
    },
    "tags": []
   },
   "outputs": [
    {
     "name": "stdout",
     "output_type": "stream",
     "text": [
      "Img data is loading...\n"
     ]
    }
   ],
   "source": [
    "#Pipeline\n",
    "#Loading Data\n",
    "(x_train, y_train), (x_test, y_test) = DataLoader.data_loader(x_train)"
   ]
  },
  {
   "cell_type": "code",
   "execution_count": 15,
   "id": "0f1f24e4",
   "metadata": {
    "execution": {
     "iopub.execute_input": "2025-06-18T15:44:46.615112Z",
     "iopub.status.busy": "2025-06-18T15:44:46.614477Z",
     "iopub.status.idle": "2025-06-18T15:44:47.079593Z",
     "shell.execute_reply": "2025-06-18T15:44:47.078825Z"
    },
    "papermill": {
     "duration": 0.479356,
     "end_time": "2025-06-18T15:44:47.081132",
     "exception": false,
     "start_time": "2025-06-18T15:44:46.601776",
     "status": "completed"
    },
    "tags": []
   },
   "outputs": [],
   "source": [
    "#Normalizing\n",
    "x_train = DataUtils.rescaler(x_train)\n",
    "x_test = DataUtils.rescaler(x_test)"
   ]
  },
  {
   "cell_type": "code",
   "execution_count": 16,
   "id": "b40a0849",
   "metadata": {
    "execution": {
     "iopub.execute_input": "2025-06-18T15:44:47.106514Z",
     "iopub.status.busy": "2025-06-18T15:44:47.106251Z",
     "iopub.status.idle": "2025-06-18T15:44:47.344555Z",
     "shell.execute_reply": "2025-06-18T15:44:47.343735Z"
    },
    "papermill": {
     "duration": 0.25223,
     "end_time": "2025-06-18T15:44:47.346041",
     "exception": false,
     "start_time": "2025-06-18T15:44:47.093811",
     "status": "completed"
    },
    "tags": []
   },
   "outputs": [],
   "source": [
    "#Data augmentation\n",
    "datagen = ImageDataGenerator(\n",
    "    rotation_range=30,\n",
    "    zoom_range=0.2,\n",
    "    width_shift_range = 0.1,\n",
    "    height_shift_range = 0.1,\n",
    "\n",
    ")\n",
    "\n",
    "augmented_images = datagen.flow(x_train, y_train, batch_size=Config.get_batch_size())"
   ]
  },
  {
   "cell_type": "code",
   "execution_count": 17,
   "id": "52cfa30b",
   "metadata": {
    "execution": {
     "iopub.execute_input": "2025-06-18T15:44:47.370849Z",
     "iopub.status.busy": "2025-06-18T15:44:47.370387Z",
     "iopub.status.idle": "2025-06-18T16:01:12.147750Z",
     "shell.execute_reply": "2025-06-18T16:01:12.147042Z"
    },
    "papermill": {
     "duration": 984.790733,
     "end_time": "2025-06-18T16:01:12.149026",
     "exception": false,
     "start_time": "2025-06-18T15:44:47.358293",
     "status": "completed"
    },
    "tags": []
   },
   "outputs": [
    {
     "name": "stderr",
     "output_type": "stream",
     "text": [
      "I0000 00:00:1750261488.448184      19 gpu_device.cc:2022] Created device /job:localhost/replica:0/task:0/device:GPU:0 with 15513 MB memory:  -> device: 0, name: Tesla P100-PCIE-16GB, pci bus id: 0000:00:04.0, compute capability: 6.0\n"
     ]
    },
    {
     "name": "stdout",
     "output_type": "stream",
     "text": [
      "Epoch 1/50\n"
     ]
    },
    {
     "name": "stderr",
     "output_type": "stream",
     "text": [
      "WARNING: All log messages before absl::InitializeLog() is called are written to STDERR\n",
      "I0000 00:00:1750261497.153822      60 service.cc:148] XLA service 0x7a4178003c40 initialized for platform CUDA (this does not guarantee that XLA will be used). Devices:\n",
      "I0000 00:00:1750261497.154501      60 service.cc:156]   StreamExecutor device (0): Tesla P100-PCIE-16GB, Compute Capability 6.0\n",
      "I0000 00:00:1750261497.884047      60 cuda_dnn.cc:529] Loaded cuDNN version 90300\n"
     ]
    },
    {
     "name": "stdout",
     "output_type": "stream",
     "text": [
      "\u001b[1m  4/391\u001b[0m \u001b[37m━━━━━━━━━━━━━━━━━━━━\u001b[0m \u001b[1m17s\u001b[0m 46ms/step - accuracy: 0.0889 - loss: 4.4203"
     ]
    },
    {
     "name": "stderr",
     "output_type": "stream",
     "text": [
      "I0000 00:00:1750261503.369800      60 device_compiler.h:188] Compiled cluster using XLA!  This line is logged at most once for the lifetime of the process.\n"
     ]
    },
    {
     "name": "stdout",
     "output_type": "stream",
     "text": [
      "\u001b[1m391/391\u001b[0m \u001b[32m━━━━━━━━━━━━━━━━━━━━\u001b[0m\u001b[37m\u001b[0m \u001b[1m44s\u001b[0m 79ms/step - accuracy: 0.3378 - loss: 1.9492 - val_accuracy: 0.4030 - val_loss: 1.7482\n",
      "Epoch 2/50\n",
      "\u001b[1m391/391\u001b[0m \u001b[32m━━━━━━━━━━━━━━━━━━━━\u001b[0m\u001b[37m\u001b[0m \u001b[1m24s\u001b[0m 61ms/step - accuracy: 0.5716 - loss: 1.2000 - val_accuracy: 0.6017 - val_loss: 1.1942\n",
      "Epoch 3/50\n",
      "\u001b[1m391/391\u001b[0m \u001b[32m━━━━━━━━━━━━━━━━━━━━\u001b[0m\u001b[37m\u001b[0m \u001b[1m24s\u001b[0m 60ms/step - accuracy: 0.6528 - loss: 0.9886 - val_accuracy: 0.6849 - val_loss: 0.9144\n",
      "Epoch 4/50\n",
      "\u001b[1m391/391\u001b[0m \u001b[32m━━━━━━━━━━━━━━━━━━━━\u001b[0m\u001b[37m\u001b[0m \u001b[1m24s\u001b[0m 60ms/step - accuracy: 0.6941 - loss: 0.8643 - val_accuracy: 0.7055 - val_loss: 0.8553\n",
      "Epoch 5/50\n",
      "\u001b[1m391/391\u001b[0m \u001b[32m━━━━━━━━━━━━━━━━━━━━\u001b[0m\u001b[37m\u001b[0m \u001b[1m24s\u001b[0m 61ms/step - accuracy: 0.7191 - loss: 0.7991 - val_accuracy: 0.6906 - val_loss: 0.9586\n",
      "Epoch 6/50\n",
      "\u001b[1m391/391\u001b[0m \u001b[32m━━━━━━━━━━━━━━━━━━━━\u001b[0m\u001b[37m\u001b[0m \u001b[1m24s\u001b[0m 61ms/step - accuracy: 0.7508 - loss: 0.7178 - val_accuracy: 0.7347 - val_loss: 0.8180\n",
      "Epoch 7/50\n",
      "\u001b[1m391/391\u001b[0m \u001b[32m━━━━━━━━━━━━━━━━━━━━\u001b[0m\u001b[37m\u001b[0m \u001b[1m24s\u001b[0m 61ms/step - accuracy: 0.7655 - loss: 0.6694 - val_accuracy: 0.7824 - val_loss: 0.6604\n",
      "Epoch 8/50\n",
      "\u001b[1m391/391\u001b[0m \u001b[32m━━━━━━━━━━━━━━━━━━━━\u001b[0m\u001b[37m\u001b[0m \u001b[1m24s\u001b[0m 61ms/step - accuracy: 0.7816 - loss: 0.6259 - val_accuracy: 0.7585 - val_loss: 0.7418\n",
      "Epoch 9/50\n",
      "\u001b[1m391/391\u001b[0m \u001b[32m━━━━━━━━━━━━━━━━━━━━\u001b[0m\u001b[37m\u001b[0m \u001b[1m24s\u001b[0m 60ms/step - accuracy: 0.7931 - loss: 0.5972 - val_accuracy: 0.7611 - val_loss: 0.7381\n",
      "Epoch 10/50\n",
      "\u001b[1m391/391\u001b[0m \u001b[32m━━━━━━━━━━━━━━━━━━━━\u001b[0m\u001b[37m\u001b[0m \u001b[1m24s\u001b[0m 60ms/step - accuracy: 0.8030 - loss: 0.5624 - val_accuracy: 0.7642 - val_loss: 0.7653\n",
      "Epoch 11/50\n",
      "\u001b[1m391/391\u001b[0m \u001b[32m━━━━━━━━━━━━━━━━━━━━\u001b[0m\u001b[37m\u001b[0m \u001b[1m24s\u001b[0m 61ms/step - accuracy: 0.8129 - loss: 0.5415 - val_accuracy: 0.7868 - val_loss: 0.6689\n",
      "Epoch 12/50\n",
      "\u001b[1m391/391\u001b[0m \u001b[32m━━━━━━━━━━━━━━━━━━━━\u001b[0m\u001b[37m\u001b[0m \u001b[1m23s\u001b[0m 60ms/step - accuracy: 0.8168 - loss: 0.5168 - val_accuracy: 0.8161 - val_loss: 0.5584\n",
      "Epoch 13/50\n",
      "\u001b[1m391/391\u001b[0m \u001b[32m━━━━━━━━━━━━━━━━━━━━\u001b[0m\u001b[37m\u001b[0m \u001b[1m23s\u001b[0m 60ms/step - accuracy: 0.8323 - loss: 0.4795 - val_accuracy: 0.7577 - val_loss: 0.7179\n",
      "Epoch 14/50\n",
      "\u001b[1m391/391\u001b[0m \u001b[32m━━━━━━━━━━━━━━━━━━━━\u001b[0m\u001b[37m\u001b[0m \u001b[1m24s\u001b[0m 60ms/step - accuracy: 0.8360 - loss: 0.4676 - val_accuracy: 0.8325 - val_loss: 0.5065\n",
      "Epoch 15/50\n",
      "\u001b[1m391/391\u001b[0m \u001b[32m━━━━━━━━━━━━━━━━━━━━\u001b[0m\u001b[37m\u001b[0m \u001b[1m24s\u001b[0m 60ms/step - accuracy: 0.8443 - loss: 0.4432 - val_accuracy: 0.7839 - val_loss: 0.6878\n",
      "Epoch 16/50\n",
      "\u001b[1m391/391\u001b[0m \u001b[32m━━━━━━━━━━━━━━━━━━━━\u001b[0m\u001b[37m\u001b[0m \u001b[1m23s\u001b[0m 60ms/step - accuracy: 0.8495 - loss: 0.4267 - val_accuracy: 0.8255 - val_loss: 0.5418\n",
      "Epoch 17/50\n",
      "\u001b[1m391/391\u001b[0m \u001b[32m━━━━━━━━━━━━━━━━━━━━\u001b[0m\u001b[37m\u001b[0m \u001b[1m24s\u001b[0m 60ms/step - accuracy: 0.8538 - loss: 0.4144 - val_accuracy: 0.8449 - val_loss: 0.4728\n",
      "Epoch 18/50\n",
      "\u001b[1m391/391\u001b[0m \u001b[32m━━━━━━━━━━━━━━━━━━━━\u001b[0m\u001b[37m\u001b[0m \u001b[1m24s\u001b[0m 60ms/step - accuracy: 0.8605 - loss: 0.3979 - val_accuracy: 0.8184 - val_loss: 0.5946\n",
      "Epoch 19/50\n",
      "\u001b[1m391/391\u001b[0m \u001b[32m━━━━━━━━━━━━━━━━━━━━\u001b[0m\u001b[37m\u001b[0m \u001b[1m23s\u001b[0m 60ms/step - accuracy: 0.8651 - loss: 0.3874 - val_accuracy: 0.8381 - val_loss: 0.5010\n",
      "Epoch 20/50\n",
      "\u001b[1m391/391\u001b[0m \u001b[32m━━━━━━━━━━━━━━━━━━━━\u001b[0m\u001b[37m\u001b[0m \u001b[1m23s\u001b[0m 60ms/step - accuracy: 0.8724 - loss: 0.3669 - val_accuracy: 0.8051 - val_loss: 0.6377\n",
      "Epoch 21/50\n",
      "\u001b[1m391/391\u001b[0m \u001b[32m━━━━━━━━━━━━━━━━━━━━\u001b[0m\u001b[37m\u001b[0m \u001b[1m24s\u001b[0m 61ms/step - accuracy: 0.8721 - loss: 0.3710 - val_accuracy: 0.8463 - val_loss: 0.4749\n",
      "Epoch 22/50\n",
      "\u001b[1m391/391\u001b[0m \u001b[32m━━━━━━━━━━━━━━━━━━━━\u001b[0m\u001b[37m\u001b[0m \u001b[1m23s\u001b[0m 60ms/step - accuracy: 0.8759 - loss: 0.3559 - val_accuracy: 0.8023 - val_loss: 0.6746\n",
      "Epoch 23/50\n",
      "\u001b[1m391/391\u001b[0m \u001b[32m━━━━━━━━━━━━━━━━━━━━\u001b[0m\u001b[37m\u001b[0m \u001b[1m24s\u001b[0m 60ms/step - accuracy: 0.8758 - loss: 0.3517 - val_accuracy: 0.8521 - val_loss: 0.4784\n",
      "Epoch 24/50\n",
      "\u001b[1m391/391\u001b[0m \u001b[32m━━━━━━━━━━━━━━━━━━━━\u001b[0m\u001b[37m\u001b[0m \u001b[1m23s\u001b[0m 60ms/step - accuracy: 0.8832 - loss: 0.3340 - val_accuracy: 0.8440 - val_loss: 0.5012\n",
      "Epoch 25/50\n",
      "\u001b[1m391/391\u001b[0m \u001b[32m━━━━━━━━━━━━━━━━━━━━\u001b[0m\u001b[37m\u001b[0m \u001b[1m24s\u001b[0m 60ms/step - accuracy: 0.8873 - loss: 0.3268 - val_accuracy: 0.8438 - val_loss: 0.4974\n",
      "Epoch 26/50\n",
      "\u001b[1m391/391\u001b[0m \u001b[32m━━━━━━━━━━━━━━━━━━━━\u001b[0m\u001b[37m\u001b[0m \u001b[1m24s\u001b[0m 61ms/step - accuracy: 0.8903 - loss: 0.3081 - val_accuracy: 0.8391 - val_loss: 0.5323\n",
      "Epoch 27/50\n",
      "\u001b[1m391/391\u001b[0m \u001b[32m━━━━━━━━━━━━━━━━━━━━\u001b[0m\u001b[37m\u001b[0m \u001b[1m23s\u001b[0m 59ms/step - accuracy: 0.8938 - loss: 0.3071 - val_accuracy: 0.8326 - val_loss: 0.5723\n",
      "Epoch 28/50\n",
      "\u001b[1m391/391\u001b[0m \u001b[32m━━━━━━━━━━━━━━━━━━━━\u001b[0m\u001b[37m\u001b[0m \u001b[1m23s\u001b[0m 60ms/step - accuracy: 0.8960 - loss: 0.2978 - val_accuracy: 0.8544 - val_loss: 0.4597\n",
      "Epoch 29/50\n",
      "\u001b[1m391/391\u001b[0m \u001b[32m━━━━━━━━━━━━━━━━━━━━\u001b[0m\u001b[37m\u001b[0m \u001b[1m23s\u001b[0m 60ms/step - accuracy: 0.8974 - loss: 0.2912 - val_accuracy: 0.8652 - val_loss: 0.4261\n",
      "Epoch 30/50\n",
      "\u001b[1m391/391\u001b[0m \u001b[32m━━━━━━━━━━━━━━━━━━━━\u001b[0m\u001b[37m\u001b[0m \u001b[1m23s\u001b[0m 59ms/step - accuracy: 0.8992 - loss: 0.2829 - val_accuracy: 0.8535 - val_loss: 0.4624\n",
      "Epoch 31/50\n",
      "\u001b[1m391/391\u001b[0m \u001b[32m━━━━━━━━━━━━━━━━━━━━\u001b[0m\u001b[37m\u001b[0m \u001b[1m23s\u001b[0m 59ms/step - accuracy: 0.9014 - loss: 0.2801 - val_accuracy: 0.8580 - val_loss: 0.4791\n",
      "Epoch 32/50\n",
      "\u001b[1m391/391\u001b[0m \u001b[32m━━━━━━━━━━━━━━━━━━━━\u001b[0m\u001b[37m\u001b[0m \u001b[1m23s\u001b[0m 60ms/step - accuracy: 0.9080 - loss: 0.2628 - val_accuracy: 0.8512 - val_loss: 0.4952\n",
      "Epoch 33/50\n",
      "\u001b[1m391/391\u001b[0m \u001b[32m━━━━━━━━━━━━━━━━━━━━\u001b[0m\u001b[37m\u001b[0m \u001b[1m23s\u001b[0m 59ms/step - accuracy: 0.9065 - loss: 0.2634 - val_accuracy: 0.8699 - val_loss: 0.4114\n",
      "Epoch 34/50\n",
      "\u001b[1m391/391\u001b[0m \u001b[32m━━━━━━━━━━━━━━━━━━━━\u001b[0m\u001b[37m\u001b[0m \u001b[1m23s\u001b[0m 59ms/step - accuracy: 0.9067 - loss: 0.2631 - val_accuracy: 0.8529 - val_loss: 0.4919\n",
      "Epoch 35/50\n",
      "\u001b[1m391/391\u001b[0m \u001b[32m━━━━━━━━━━━━━━━━━━━━\u001b[0m\u001b[37m\u001b[0m \u001b[1m23s\u001b[0m 59ms/step - accuracy: 0.9112 - loss: 0.2526 - val_accuracy: 0.8330 - val_loss: 0.5806\n",
      "Epoch 36/50\n",
      "\u001b[1m391/391\u001b[0m \u001b[32m━━━━━━━━━━━━━━━━━━━━\u001b[0m\u001b[37m\u001b[0m \u001b[1m23s\u001b[0m 59ms/step - accuracy: 0.9120 - loss: 0.2488 - val_accuracy: 0.8705 - val_loss: 0.4302\n",
      "Epoch 37/50\n",
      "\u001b[1m391/391\u001b[0m \u001b[32m━━━━━━━━━━━━━━━━━━━━\u001b[0m\u001b[37m\u001b[0m \u001b[1m23s\u001b[0m 59ms/step - accuracy: 0.9102 - loss: 0.2550 - val_accuracy: 0.8498 - val_loss: 0.5146\n",
      "Epoch 38/50\n",
      "\u001b[1m391/391\u001b[0m \u001b[32m━━━━━━━━━━━━━━━━━━━━\u001b[0m\u001b[37m\u001b[0m \u001b[1m24s\u001b[0m 60ms/step - accuracy: 0.9152 - loss: 0.2400 - val_accuracy: 0.8678 - val_loss: 0.4424\n",
      "Epoch 39/50\n",
      "\u001b[1m391/391\u001b[0m \u001b[32m━━━━━━━━━━━━━━━━━━━━\u001b[0m\u001b[37m\u001b[0m \u001b[1m23s\u001b[0m 59ms/step - accuracy: 0.9199 - loss: 0.2298 - val_accuracy: 0.8593 - val_loss: 0.4698\n",
      "Epoch 40/50\n",
      "\u001b[1m391/391\u001b[0m \u001b[32m━━━━━━━━━━━━━━━━━━━━\u001b[0m\u001b[37m\u001b[0m \u001b[1m23s\u001b[0m 59ms/step - accuracy: 0.9183 - loss: 0.2291 - val_accuracy: 0.8688 - val_loss: 0.4424\n",
      "Epoch 41/50\n",
      "\u001b[1m391/391\u001b[0m \u001b[32m━━━━━━━━━━━━━━━━━━━━\u001b[0m\u001b[37m\u001b[0m \u001b[1m23s\u001b[0m 60ms/step - accuracy: 0.9205 - loss: 0.2290 - val_accuracy: 0.8648 - val_loss: 0.4575\n"
     ]
    },
    {
     "data": {
      "text/plain": [
       "<keras.src.callbacks.history.History at 0x7a42bc75d390>"
      ]
     },
     "execution_count": 17,
     "metadata": {},
     "output_type": "execute_result"
    }
   ],
   "source": [
    "#Training\n",
    "model = Model(Config)\n",
    "model.build_model()\n",
    "model.compile_model()\n",
    "model.train_model(augmented_images , x_test , y_test)"
   ]
  },
  {
   "cell_type": "code",
   "execution_count": 18,
   "id": "e7e9f156",
   "metadata": {
    "execution": {
     "iopub.execute_input": "2025-06-18T16:01:13.603551Z",
     "iopub.status.busy": "2025-06-18T16:01:13.602666Z",
     "iopub.status.idle": "2025-06-18T16:01:13.632753Z",
     "shell.execute_reply": "2025-06-18T16:01:13.632174Z"
    },
    "papermill": {
     "duration": 0.720917,
     "end_time": "2025-06-18T16:01:13.633806",
     "exception": false,
     "start_time": "2025-06-18T16:01:12.912889",
     "status": "completed"
    },
    "tags": []
   },
   "outputs": [
    {
     "data": {
      "text/html": [
       "<pre style=\"white-space:pre;overflow-x:auto;line-height:normal;font-family:Menlo,'DejaVu Sans Mono',consolas,'Courier New',monospace\"><span style=\"font-weight: bold\">Model: \"sequential\"</span>\n",
       "</pre>\n"
      ],
      "text/plain": [
       "\u001b[1mModel: \"sequential\"\u001b[0m\n"
      ]
     },
     "metadata": {},
     "output_type": "display_data"
    },
    {
     "data": {
      "text/html": [
       "<pre style=\"white-space:pre;overflow-x:auto;line-height:normal;font-family:Menlo,'DejaVu Sans Mono',consolas,'Courier New',monospace\">┏━━━━━━━━━━━━━━━━━━━━━━━━━━━━━━━━━━━━━━┳━━━━━━━━━━━━━━━━━━━━━━━━━━━━━┳━━━━━━━━━━━━━━━━━┓\n",
       "┃<span style=\"font-weight: bold\"> Layer (type)                         </span>┃<span style=\"font-weight: bold\"> Output Shape                </span>┃<span style=\"font-weight: bold\">         Param # </span>┃\n",
       "┡━━━━━━━━━━━━━━━━━━━━━━━━━━━━━━━━━━━━━━╇━━━━━━━━━━━━━━━━━━━━━━━━━━━━━╇━━━━━━━━━━━━━━━━━┩\n",
       "│ conv2d (<span style=\"color: #0087ff; text-decoration-color: #0087ff\">Conv2D</span>)                      │ (<span style=\"color: #00d7ff; text-decoration-color: #00d7ff\">None</span>, <span style=\"color: #00af00; text-decoration-color: #00af00\">32</span>, <span style=\"color: #00af00; text-decoration-color: #00af00\">32</span>, <span style=\"color: #00af00; text-decoration-color: #00af00\">32</span>)          │             <span style=\"color: #00af00; text-decoration-color: #00af00\">896</span> │\n",
       "├──────────────────────────────────────┼─────────────────────────────┼─────────────────┤\n",
       "│ batch_normalization                  │ (<span style=\"color: #00d7ff; text-decoration-color: #00d7ff\">None</span>, <span style=\"color: #00af00; text-decoration-color: #00af00\">32</span>, <span style=\"color: #00af00; text-decoration-color: #00af00\">32</span>, <span style=\"color: #00af00; text-decoration-color: #00af00\">32</span>)          │             <span style=\"color: #00af00; text-decoration-color: #00af00\">128</span> │\n",
       "│ (<span style=\"color: #0087ff; text-decoration-color: #0087ff\">BatchNormalization</span>)                 │                             │                 │\n",
       "├──────────────────────────────────────┼─────────────────────────────┼─────────────────┤\n",
       "│ activation (<span style=\"color: #0087ff; text-decoration-color: #0087ff\">Activation</span>)              │ (<span style=\"color: #00d7ff; text-decoration-color: #00d7ff\">None</span>, <span style=\"color: #00af00; text-decoration-color: #00af00\">32</span>, <span style=\"color: #00af00; text-decoration-color: #00af00\">32</span>, <span style=\"color: #00af00; text-decoration-color: #00af00\">32</span>)          │               <span style=\"color: #00af00; text-decoration-color: #00af00\">0</span> │\n",
       "├──────────────────────────────────────┼─────────────────────────────┼─────────────────┤\n",
       "│ conv2d_1 (<span style=\"color: #0087ff; text-decoration-color: #0087ff\">Conv2D</span>)                    │ (<span style=\"color: #00d7ff; text-decoration-color: #00d7ff\">None</span>, <span style=\"color: #00af00; text-decoration-color: #00af00\">32</span>, <span style=\"color: #00af00; text-decoration-color: #00af00\">32</span>, <span style=\"color: #00af00; text-decoration-color: #00af00\">32</span>)          │           <span style=\"color: #00af00; text-decoration-color: #00af00\">9,248</span> │\n",
       "├──────────────────────────────────────┼─────────────────────────────┼─────────────────┤\n",
       "│ batch_normalization_1                │ (<span style=\"color: #00d7ff; text-decoration-color: #00d7ff\">None</span>, <span style=\"color: #00af00; text-decoration-color: #00af00\">32</span>, <span style=\"color: #00af00; text-decoration-color: #00af00\">32</span>, <span style=\"color: #00af00; text-decoration-color: #00af00\">32</span>)          │             <span style=\"color: #00af00; text-decoration-color: #00af00\">128</span> │\n",
       "│ (<span style=\"color: #0087ff; text-decoration-color: #0087ff\">BatchNormalization</span>)                 │                             │                 │\n",
       "├──────────────────────────────────────┼─────────────────────────────┼─────────────────┤\n",
       "│ activation_1 (<span style=\"color: #0087ff; text-decoration-color: #0087ff\">Activation</span>)            │ (<span style=\"color: #00d7ff; text-decoration-color: #00d7ff\">None</span>, <span style=\"color: #00af00; text-decoration-color: #00af00\">32</span>, <span style=\"color: #00af00; text-decoration-color: #00af00\">32</span>, <span style=\"color: #00af00; text-decoration-color: #00af00\">32</span>)          │               <span style=\"color: #00af00; text-decoration-color: #00af00\">0</span> │\n",
       "├──────────────────────────────────────┼─────────────────────────────┼─────────────────┤\n",
       "│ max_pooling2d (<span style=\"color: #0087ff; text-decoration-color: #0087ff\">MaxPooling2D</span>)         │ (<span style=\"color: #00d7ff; text-decoration-color: #00d7ff\">None</span>, <span style=\"color: #00af00; text-decoration-color: #00af00\">16</span>, <span style=\"color: #00af00; text-decoration-color: #00af00\">16</span>, <span style=\"color: #00af00; text-decoration-color: #00af00\">32</span>)          │               <span style=\"color: #00af00; text-decoration-color: #00af00\">0</span> │\n",
       "├──────────────────────────────────────┼─────────────────────────────┼─────────────────┤\n",
       "│ conv2d_2 (<span style=\"color: #0087ff; text-decoration-color: #0087ff\">Conv2D</span>)                    │ (<span style=\"color: #00d7ff; text-decoration-color: #00d7ff\">None</span>, <span style=\"color: #00af00; text-decoration-color: #00af00\">16</span>, <span style=\"color: #00af00; text-decoration-color: #00af00\">16</span>, <span style=\"color: #00af00; text-decoration-color: #00af00\">64</span>)          │          <span style=\"color: #00af00; text-decoration-color: #00af00\">18,496</span> │\n",
       "├──────────────────────────────────────┼─────────────────────────────┼─────────────────┤\n",
       "│ batch_normalization_2                │ (<span style=\"color: #00d7ff; text-decoration-color: #00d7ff\">None</span>, <span style=\"color: #00af00; text-decoration-color: #00af00\">16</span>, <span style=\"color: #00af00; text-decoration-color: #00af00\">16</span>, <span style=\"color: #00af00; text-decoration-color: #00af00\">64</span>)          │             <span style=\"color: #00af00; text-decoration-color: #00af00\">256</span> │\n",
       "│ (<span style=\"color: #0087ff; text-decoration-color: #0087ff\">BatchNormalization</span>)                 │                             │                 │\n",
       "├──────────────────────────────────────┼─────────────────────────────┼─────────────────┤\n",
       "│ activation_2 (<span style=\"color: #0087ff; text-decoration-color: #0087ff\">Activation</span>)            │ (<span style=\"color: #00d7ff; text-decoration-color: #00d7ff\">None</span>, <span style=\"color: #00af00; text-decoration-color: #00af00\">16</span>, <span style=\"color: #00af00; text-decoration-color: #00af00\">16</span>, <span style=\"color: #00af00; text-decoration-color: #00af00\">64</span>)          │               <span style=\"color: #00af00; text-decoration-color: #00af00\">0</span> │\n",
       "├──────────────────────────────────────┼─────────────────────────────┼─────────────────┤\n",
       "│ conv2d_3 (<span style=\"color: #0087ff; text-decoration-color: #0087ff\">Conv2D</span>)                    │ (<span style=\"color: #00d7ff; text-decoration-color: #00d7ff\">None</span>, <span style=\"color: #00af00; text-decoration-color: #00af00\">16</span>, <span style=\"color: #00af00; text-decoration-color: #00af00\">16</span>, <span style=\"color: #00af00; text-decoration-color: #00af00\">128</span>)         │          <span style=\"color: #00af00; text-decoration-color: #00af00\">73,856</span> │\n",
       "├──────────────────────────────────────┼─────────────────────────────┼─────────────────┤\n",
       "│ batch_normalization_3                │ (<span style=\"color: #00d7ff; text-decoration-color: #00d7ff\">None</span>, <span style=\"color: #00af00; text-decoration-color: #00af00\">16</span>, <span style=\"color: #00af00; text-decoration-color: #00af00\">16</span>, <span style=\"color: #00af00; text-decoration-color: #00af00\">128</span>)         │             <span style=\"color: #00af00; text-decoration-color: #00af00\">512</span> │\n",
       "│ (<span style=\"color: #0087ff; text-decoration-color: #0087ff\">BatchNormalization</span>)                 │                             │                 │\n",
       "├──────────────────────────────────────┼─────────────────────────────┼─────────────────┤\n",
       "│ activation_3 (<span style=\"color: #0087ff; text-decoration-color: #0087ff\">Activation</span>)            │ (<span style=\"color: #00d7ff; text-decoration-color: #00d7ff\">None</span>, <span style=\"color: #00af00; text-decoration-color: #00af00\">16</span>, <span style=\"color: #00af00; text-decoration-color: #00af00\">16</span>, <span style=\"color: #00af00; text-decoration-color: #00af00\">128</span>)         │               <span style=\"color: #00af00; text-decoration-color: #00af00\">0</span> │\n",
       "├──────────────────────────────────────┼─────────────────────────────┼─────────────────┤\n",
       "│ dropout (<span style=\"color: #0087ff; text-decoration-color: #0087ff\">Dropout</span>)                    │ (<span style=\"color: #00d7ff; text-decoration-color: #00d7ff\">None</span>, <span style=\"color: #00af00; text-decoration-color: #00af00\">16</span>, <span style=\"color: #00af00; text-decoration-color: #00af00\">16</span>, <span style=\"color: #00af00; text-decoration-color: #00af00\">128</span>)         │               <span style=\"color: #00af00; text-decoration-color: #00af00\">0</span> │\n",
       "├──────────────────────────────────────┼─────────────────────────────┼─────────────────┤\n",
       "│ conv2d_4 (<span style=\"color: #0087ff; text-decoration-color: #0087ff\">Conv2D</span>)                    │ (<span style=\"color: #00d7ff; text-decoration-color: #00d7ff\">None</span>, <span style=\"color: #00af00; text-decoration-color: #00af00\">16</span>, <span style=\"color: #00af00; text-decoration-color: #00af00\">16</span>, <span style=\"color: #00af00; text-decoration-color: #00af00\">128</span>)         │         <span style=\"color: #00af00; text-decoration-color: #00af00\">147,584</span> │\n",
       "├──────────────────────────────────────┼─────────────────────────────┼─────────────────┤\n",
       "│ batch_normalization_4                │ (<span style=\"color: #00d7ff; text-decoration-color: #00d7ff\">None</span>, <span style=\"color: #00af00; text-decoration-color: #00af00\">16</span>, <span style=\"color: #00af00; text-decoration-color: #00af00\">16</span>, <span style=\"color: #00af00; text-decoration-color: #00af00\">128</span>)         │             <span style=\"color: #00af00; text-decoration-color: #00af00\">512</span> │\n",
       "│ (<span style=\"color: #0087ff; text-decoration-color: #0087ff\">BatchNormalization</span>)                 │                             │                 │\n",
       "├──────────────────────────────────────┼─────────────────────────────┼─────────────────┤\n",
       "│ activation_4 (<span style=\"color: #0087ff; text-decoration-color: #0087ff\">Activation</span>)            │ (<span style=\"color: #00d7ff; text-decoration-color: #00d7ff\">None</span>, <span style=\"color: #00af00; text-decoration-color: #00af00\">16</span>, <span style=\"color: #00af00; text-decoration-color: #00af00\">16</span>, <span style=\"color: #00af00; text-decoration-color: #00af00\">128</span>)         │               <span style=\"color: #00af00; text-decoration-color: #00af00\">0</span> │\n",
       "├──────────────────────────────────────┼─────────────────────────────┼─────────────────┤\n",
       "│ max_pooling2d_1 (<span style=\"color: #0087ff; text-decoration-color: #0087ff\">MaxPooling2D</span>)       │ (<span style=\"color: #00d7ff; text-decoration-color: #00d7ff\">None</span>, <span style=\"color: #00af00; text-decoration-color: #00af00\">8</span>, <span style=\"color: #00af00; text-decoration-color: #00af00\">8</span>, <span style=\"color: #00af00; text-decoration-color: #00af00\">128</span>)           │               <span style=\"color: #00af00; text-decoration-color: #00af00\">0</span> │\n",
       "├──────────────────────────────────────┼─────────────────────────────┼─────────────────┤\n",
       "│ dropout_1 (<span style=\"color: #0087ff; text-decoration-color: #0087ff\">Dropout</span>)                  │ (<span style=\"color: #00d7ff; text-decoration-color: #00d7ff\">None</span>, <span style=\"color: #00af00; text-decoration-color: #00af00\">8</span>, <span style=\"color: #00af00; text-decoration-color: #00af00\">8</span>, <span style=\"color: #00af00; text-decoration-color: #00af00\">128</span>)           │               <span style=\"color: #00af00; text-decoration-color: #00af00\">0</span> │\n",
       "├──────────────────────────────────────┼─────────────────────────────┼─────────────────┤\n",
       "│ conv2d_5 (<span style=\"color: #0087ff; text-decoration-color: #0087ff\">Conv2D</span>)                    │ (<span style=\"color: #00d7ff; text-decoration-color: #00d7ff\">None</span>, <span style=\"color: #00af00; text-decoration-color: #00af00\">8</span>, <span style=\"color: #00af00; text-decoration-color: #00af00\">8</span>, <span style=\"color: #00af00; text-decoration-color: #00af00\">128</span>)           │         <span style=\"color: #00af00; text-decoration-color: #00af00\">147,584</span> │\n",
       "├──────────────────────────────────────┼─────────────────────────────┼─────────────────┤\n",
       "│ batch_normalization_5                │ (<span style=\"color: #00d7ff; text-decoration-color: #00d7ff\">None</span>, <span style=\"color: #00af00; text-decoration-color: #00af00\">8</span>, <span style=\"color: #00af00; text-decoration-color: #00af00\">8</span>, <span style=\"color: #00af00; text-decoration-color: #00af00\">128</span>)           │             <span style=\"color: #00af00; text-decoration-color: #00af00\">512</span> │\n",
       "│ (<span style=\"color: #0087ff; text-decoration-color: #0087ff\">BatchNormalization</span>)                 │                             │                 │\n",
       "├──────────────────────────────────────┼─────────────────────────────┼─────────────────┤\n",
       "│ activation_5 (<span style=\"color: #0087ff; text-decoration-color: #0087ff\">Activation</span>)            │ (<span style=\"color: #00d7ff; text-decoration-color: #00d7ff\">None</span>, <span style=\"color: #00af00; text-decoration-color: #00af00\">8</span>, <span style=\"color: #00af00; text-decoration-color: #00af00\">8</span>, <span style=\"color: #00af00; text-decoration-color: #00af00\">128</span>)           │               <span style=\"color: #00af00; text-decoration-color: #00af00\">0</span> │\n",
       "├──────────────────────────────────────┼─────────────────────────────┼─────────────────┤\n",
       "│ conv2d_6 (<span style=\"color: #0087ff; text-decoration-color: #0087ff\">Conv2D</span>)                    │ (<span style=\"color: #00d7ff; text-decoration-color: #00d7ff\">None</span>, <span style=\"color: #00af00; text-decoration-color: #00af00\">8</span>, <span style=\"color: #00af00; text-decoration-color: #00af00\">8</span>, <span style=\"color: #00af00; text-decoration-color: #00af00\">128</span>)           │         <span style=\"color: #00af00; text-decoration-color: #00af00\">147,584</span> │\n",
       "├──────────────────────────────────────┼─────────────────────────────┼─────────────────┤\n",
       "│ batch_normalization_6                │ (<span style=\"color: #00d7ff; text-decoration-color: #00d7ff\">None</span>, <span style=\"color: #00af00; text-decoration-color: #00af00\">8</span>, <span style=\"color: #00af00; text-decoration-color: #00af00\">8</span>, <span style=\"color: #00af00; text-decoration-color: #00af00\">128</span>)           │             <span style=\"color: #00af00; text-decoration-color: #00af00\">512</span> │\n",
       "│ (<span style=\"color: #0087ff; text-decoration-color: #0087ff\">BatchNormalization</span>)                 │                             │                 │\n",
       "├──────────────────────────────────────┼─────────────────────────────┼─────────────────┤\n",
       "│ activation_6 (<span style=\"color: #0087ff; text-decoration-color: #0087ff\">Activation</span>)            │ (<span style=\"color: #00d7ff; text-decoration-color: #00d7ff\">None</span>, <span style=\"color: #00af00; text-decoration-color: #00af00\">8</span>, <span style=\"color: #00af00; text-decoration-color: #00af00\">8</span>, <span style=\"color: #00af00; text-decoration-color: #00af00\">128</span>)           │               <span style=\"color: #00af00; text-decoration-color: #00af00\">0</span> │\n",
       "├──────────────────────────────────────┼─────────────────────────────┼─────────────────┤\n",
       "│ flatten (<span style=\"color: #0087ff; text-decoration-color: #0087ff\">Flatten</span>)                    │ (<span style=\"color: #00d7ff; text-decoration-color: #00d7ff\">None</span>, <span style=\"color: #00af00; text-decoration-color: #00af00\">8192</span>)                │               <span style=\"color: #00af00; text-decoration-color: #00af00\">0</span> │\n",
       "├──────────────────────────────────────┼─────────────────────────────┼─────────────────┤\n",
       "│ dense (<span style=\"color: #0087ff; text-decoration-color: #0087ff\">Dense</span>)                        │ (<span style=\"color: #00d7ff; text-decoration-color: #00d7ff\">None</span>, <span style=\"color: #00af00; text-decoration-color: #00af00\">128</span>)                 │       <span style=\"color: #00af00; text-decoration-color: #00af00\">1,048,704</span> │\n",
       "├──────────────────────────────────────┼─────────────────────────────┼─────────────────┤\n",
       "│ dense_1 (<span style=\"color: #0087ff; text-decoration-color: #0087ff\">Dense</span>)                      │ (<span style=\"color: #00d7ff; text-decoration-color: #00d7ff\">None</span>, <span style=\"color: #00af00; text-decoration-color: #00af00\">10</span>)                  │           <span style=\"color: #00af00; text-decoration-color: #00af00\">1,290</span> │\n",
       "└──────────────────────────────────────┴─────────────────────────────┴─────────────────┘\n",
       "</pre>\n"
      ],
      "text/plain": [
       "┏━━━━━━━━━━━━━━━━━━━━━━━━━━━━━━━━━━━━━━┳━━━━━━━━━━━━━━━━━━━━━━━━━━━━━┳━━━━━━━━━━━━━━━━━┓\n",
       "┃\u001b[1m \u001b[0m\u001b[1mLayer (type)                        \u001b[0m\u001b[1m \u001b[0m┃\u001b[1m \u001b[0m\u001b[1mOutput Shape               \u001b[0m\u001b[1m \u001b[0m┃\u001b[1m \u001b[0m\u001b[1m        Param #\u001b[0m\u001b[1m \u001b[0m┃\n",
       "┡━━━━━━━━━━━━━━━━━━━━━━━━━━━━━━━━━━━━━━╇━━━━━━━━━━━━━━━━━━━━━━━━━━━━━╇━━━━━━━━━━━━━━━━━┩\n",
       "│ conv2d (\u001b[38;5;33mConv2D\u001b[0m)                      │ (\u001b[38;5;45mNone\u001b[0m, \u001b[38;5;34m32\u001b[0m, \u001b[38;5;34m32\u001b[0m, \u001b[38;5;34m32\u001b[0m)          │             \u001b[38;5;34m896\u001b[0m │\n",
       "├──────────────────────────────────────┼─────────────────────────────┼─────────────────┤\n",
       "│ batch_normalization                  │ (\u001b[38;5;45mNone\u001b[0m, \u001b[38;5;34m32\u001b[0m, \u001b[38;5;34m32\u001b[0m, \u001b[38;5;34m32\u001b[0m)          │             \u001b[38;5;34m128\u001b[0m │\n",
       "│ (\u001b[38;5;33mBatchNormalization\u001b[0m)                 │                             │                 │\n",
       "├──────────────────────────────────────┼─────────────────────────────┼─────────────────┤\n",
       "│ activation (\u001b[38;5;33mActivation\u001b[0m)              │ (\u001b[38;5;45mNone\u001b[0m, \u001b[38;5;34m32\u001b[0m, \u001b[38;5;34m32\u001b[0m, \u001b[38;5;34m32\u001b[0m)          │               \u001b[38;5;34m0\u001b[0m │\n",
       "├──────────────────────────────────────┼─────────────────────────────┼─────────────────┤\n",
       "│ conv2d_1 (\u001b[38;5;33mConv2D\u001b[0m)                    │ (\u001b[38;5;45mNone\u001b[0m, \u001b[38;5;34m32\u001b[0m, \u001b[38;5;34m32\u001b[0m, \u001b[38;5;34m32\u001b[0m)          │           \u001b[38;5;34m9,248\u001b[0m │\n",
       "├──────────────────────────────────────┼─────────────────────────────┼─────────────────┤\n",
       "│ batch_normalization_1                │ (\u001b[38;5;45mNone\u001b[0m, \u001b[38;5;34m32\u001b[0m, \u001b[38;5;34m32\u001b[0m, \u001b[38;5;34m32\u001b[0m)          │             \u001b[38;5;34m128\u001b[0m │\n",
       "│ (\u001b[38;5;33mBatchNormalization\u001b[0m)                 │                             │                 │\n",
       "├──────────────────────────────────────┼─────────────────────────────┼─────────────────┤\n",
       "│ activation_1 (\u001b[38;5;33mActivation\u001b[0m)            │ (\u001b[38;5;45mNone\u001b[0m, \u001b[38;5;34m32\u001b[0m, \u001b[38;5;34m32\u001b[0m, \u001b[38;5;34m32\u001b[0m)          │               \u001b[38;5;34m0\u001b[0m │\n",
       "├──────────────────────────────────────┼─────────────────────────────┼─────────────────┤\n",
       "│ max_pooling2d (\u001b[38;5;33mMaxPooling2D\u001b[0m)         │ (\u001b[38;5;45mNone\u001b[0m, \u001b[38;5;34m16\u001b[0m, \u001b[38;5;34m16\u001b[0m, \u001b[38;5;34m32\u001b[0m)          │               \u001b[38;5;34m0\u001b[0m │\n",
       "├──────────────────────────────────────┼─────────────────────────────┼─────────────────┤\n",
       "│ conv2d_2 (\u001b[38;5;33mConv2D\u001b[0m)                    │ (\u001b[38;5;45mNone\u001b[0m, \u001b[38;5;34m16\u001b[0m, \u001b[38;5;34m16\u001b[0m, \u001b[38;5;34m64\u001b[0m)          │          \u001b[38;5;34m18,496\u001b[0m │\n",
       "├──────────────────────────────────────┼─────────────────────────────┼─────────────────┤\n",
       "│ batch_normalization_2                │ (\u001b[38;5;45mNone\u001b[0m, \u001b[38;5;34m16\u001b[0m, \u001b[38;5;34m16\u001b[0m, \u001b[38;5;34m64\u001b[0m)          │             \u001b[38;5;34m256\u001b[0m │\n",
       "│ (\u001b[38;5;33mBatchNormalization\u001b[0m)                 │                             │                 │\n",
       "├──────────────────────────────────────┼─────────────────────────────┼─────────────────┤\n",
       "│ activation_2 (\u001b[38;5;33mActivation\u001b[0m)            │ (\u001b[38;5;45mNone\u001b[0m, \u001b[38;5;34m16\u001b[0m, \u001b[38;5;34m16\u001b[0m, \u001b[38;5;34m64\u001b[0m)          │               \u001b[38;5;34m0\u001b[0m │\n",
       "├──────────────────────────────────────┼─────────────────────────────┼─────────────────┤\n",
       "│ conv2d_3 (\u001b[38;5;33mConv2D\u001b[0m)                    │ (\u001b[38;5;45mNone\u001b[0m, \u001b[38;5;34m16\u001b[0m, \u001b[38;5;34m16\u001b[0m, \u001b[38;5;34m128\u001b[0m)         │          \u001b[38;5;34m73,856\u001b[0m │\n",
       "├──────────────────────────────────────┼─────────────────────────────┼─────────────────┤\n",
       "│ batch_normalization_3                │ (\u001b[38;5;45mNone\u001b[0m, \u001b[38;5;34m16\u001b[0m, \u001b[38;5;34m16\u001b[0m, \u001b[38;5;34m128\u001b[0m)         │             \u001b[38;5;34m512\u001b[0m │\n",
       "│ (\u001b[38;5;33mBatchNormalization\u001b[0m)                 │                             │                 │\n",
       "├──────────────────────────────────────┼─────────────────────────────┼─────────────────┤\n",
       "│ activation_3 (\u001b[38;5;33mActivation\u001b[0m)            │ (\u001b[38;5;45mNone\u001b[0m, \u001b[38;5;34m16\u001b[0m, \u001b[38;5;34m16\u001b[0m, \u001b[38;5;34m128\u001b[0m)         │               \u001b[38;5;34m0\u001b[0m │\n",
       "├──────────────────────────────────────┼─────────────────────────────┼─────────────────┤\n",
       "│ dropout (\u001b[38;5;33mDropout\u001b[0m)                    │ (\u001b[38;5;45mNone\u001b[0m, \u001b[38;5;34m16\u001b[0m, \u001b[38;5;34m16\u001b[0m, \u001b[38;5;34m128\u001b[0m)         │               \u001b[38;5;34m0\u001b[0m │\n",
       "├──────────────────────────────────────┼─────────────────────────────┼─────────────────┤\n",
       "│ conv2d_4 (\u001b[38;5;33mConv2D\u001b[0m)                    │ (\u001b[38;5;45mNone\u001b[0m, \u001b[38;5;34m16\u001b[0m, \u001b[38;5;34m16\u001b[0m, \u001b[38;5;34m128\u001b[0m)         │         \u001b[38;5;34m147,584\u001b[0m │\n",
       "├──────────────────────────────────────┼─────────────────────────────┼─────────────────┤\n",
       "│ batch_normalization_4                │ (\u001b[38;5;45mNone\u001b[0m, \u001b[38;5;34m16\u001b[0m, \u001b[38;5;34m16\u001b[0m, \u001b[38;5;34m128\u001b[0m)         │             \u001b[38;5;34m512\u001b[0m │\n",
       "│ (\u001b[38;5;33mBatchNormalization\u001b[0m)                 │                             │                 │\n",
       "├──────────────────────────────────────┼─────────────────────────────┼─────────────────┤\n",
       "│ activation_4 (\u001b[38;5;33mActivation\u001b[0m)            │ (\u001b[38;5;45mNone\u001b[0m, \u001b[38;5;34m16\u001b[0m, \u001b[38;5;34m16\u001b[0m, \u001b[38;5;34m128\u001b[0m)         │               \u001b[38;5;34m0\u001b[0m │\n",
       "├──────────────────────────────────────┼─────────────────────────────┼─────────────────┤\n",
       "│ max_pooling2d_1 (\u001b[38;5;33mMaxPooling2D\u001b[0m)       │ (\u001b[38;5;45mNone\u001b[0m, \u001b[38;5;34m8\u001b[0m, \u001b[38;5;34m8\u001b[0m, \u001b[38;5;34m128\u001b[0m)           │               \u001b[38;5;34m0\u001b[0m │\n",
       "├──────────────────────────────────────┼─────────────────────────────┼─────────────────┤\n",
       "│ dropout_1 (\u001b[38;5;33mDropout\u001b[0m)                  │ (\u001b[38;5;45mNone\u001b[0m, \u001b[38;5;34m8\u001b[0m, \u001b[38;5;34m8\u001b[0m, \u001b[38;5;34m128\u001b[0m)           │               \u001b[38;5;34m0\u001b[0m │\n",
       "├──────────────────────────────────────┼─────────────────────────────┼─────────────────┤\n",
       "│ conv2d_5 (\u001b[38;5;33mConv2D\u001b[0m)                    │ (\u001b[38;5;45mNone\u001b[0m, \u001b[38;5;34m8\u001b[0m, \u001b[38;5;34m8\u001b[0m, \u001b[38;5;34m128\u001b[0m)           │         \u001b[38;5;34m147,584\u001b[0m │\n",
       "├──────────────────────────────────────┼─────────────────────────────┼─────────────────┤\n",
       "│ batch_normalization_5                │ (\u001b[38;5;45mNone\u001b[0m, \u001b[38;5;34m8\u001b[0m, \u001b[38;5;34m8\u001b[0m, \u001b[38;5;34m128\u001b[0m)           │             \u001b[38;5;34m512\u001b[0m │\n",
       "│ (\u001b[38;5;33mBatchNormalization\u001b[0m)                 │                             │                 │\n",
       "├──────────────────────────────────────┼─────────────────────────────┼─────────────────┤\n",
       "│ activation_5 (\u001b[38;5;33mActivation\u001b[0m)            │ (\u001b[38;5;45mNone\u001b[0m, \u001b[38;5;34m8\u001b[0m, \u001b[38;5;34m8\u001b[0m, \u001b[38;5;34m128\u001b[0m)           │               \u001b[38;5;34m0\u001b[0m │\n",
       "├──────────────────────────────────────┼─────────────────────────────┼─────────────────┤\n",
       "│ conv2d_6 (\u001b[38;5;33mConv2D\u001b[0m)                    │ (\u001b[38;5;45mNone\u001b[0m, \u001b[38;5;34m8\u001b[0m, \u001b[38;5;34m8\u001b[0m, \u001b[38;5;34m128\u001b[0m)           │         \u001b[38;5;34m147,584\u001b[0m │\n",
       "├──────────────────────────────────────┼─────────────────────────────┼─────────────────┤\n",
       "│ batch_normalization_6                │ (\u001b[38;5;45mNone\u001b[0m, \u001b[38;5;34m8\u001b[0m, \u001b[38;5;34m8\u001b[0m, \u001b[38;5;34m128\u001b[0m)           │             \u001b[38;5;34m512\u001b[0m │\n",
       "│ (\u001b[38;5;33mBatchNormalization\u001b[0m)                 │                             │                 │\n",
       "├──────────────────────────────────────┼─────────────────────────────┼─────────────────┤\n",
       "│ activation_6 (\u001b[38;5;33mActivation\u001b[0m)            │ (\u001b[38;5;45mNone\u001b[0m, \u001b[38;5;34m8\u001b[0m, \u001b[38;5;34m8\u001b[0m, \u001b[38;5;34m128\u001b[0m)           │               \u001b[38;5;34m0\u001b[0m │\n",
       "├──────────────────────────────────────┼─────────────────────────────┼─────────────────┤\n",
       "│ flatten (\u001b[38;5;33mFlatten\u001b[0m)                    │ (\u001b[38;5;45mNone\u001b[0m, \u001b[38;5;34m8192\u001b[0m)                │               \u001b[38;5;34m0\u001b[0m │\n",
       "├──────────────────────────────────────┼─────────────────────────────┼─────────────────┤\n",
       "│ dense (\u001b[38;5;33mDense\u001b[0m)                        │ (\u001b[38;5;45mNone\u001b[0m, \u001b[38;5;34m128\u001b[0m)                 │       \u001b[38;5;34m1,048,704\u001b[0m │\n",
       "├──────────────────────────────────────┼─────────────────────────────┼─────────────────┤\n",
       "│ dense_1 (\u001b[38;5;33mDense\u001b[0m)                      │ (\u001b[38;5;45mNone\u001b[0m, \u001b[38;5;34m10\u001b[0m)                  │           \u001b[38;5;34m1,290\u001b[0m │\n",
       "└──────────────────────────────────────┴─────────────────────────────┴─────────────────┘\n"
      ]
     },
     "metadata": {},
     "output_type": "display_data"
    },
    {
     "data": {
      "text/html": [
       "<pre style=\"white-space:pre;overflow-x:auto;line-height:normal;font-family:Menlo,'DejaVu Sans Mono',consolas,'Courier New',monospace\"><span style=\"font-weight: bold\"> Total params: </span><span style=\"color: #00af00; text-decoration-color: #00af00\">4,790,848</span> (18.28 MB)\n",
       "</pre>\n"
      ],
      "text/plain": [
       "\u001b[1m Total params: \u001b[0m\u001b[38;5;34m4,790,848\u001b[0m (18.28 MB)\n"
      ]
     },
     "metadata": {},
     "output_type": "display_data"
    },
    {
     "data": {
      "text/html": [
       "<pre style=\"white-space:pre;overflow-x:auto;line-height:normal;font-family:Menlo,'DejaVu Sans Mono',consolas,'Courier New',monospace\"><span style=\"font-weight: bold\"> Trainable params: </span><span style=\"color: #00af00; text-decoration-color: #00af00\">1,596,522</span> (6.09 MB)\n",
       "</pre>\n"
      ],
      "text/plain": [
       "\u001b[1m Trainable params: \u001b[0m\u001b[38;5;34m1,596,522\u001b[0m (6.09 MB)\n"
      ]
     },
     "metadata": {},
     "output_type": "display_data"
    },
    {
     "data": {
      "text/html": [
       "<pre style=\"white-space:pre;overflow-x:auto;line-height:normal;font-family:Menlo,'DejaVu Sans Mono',consolas,'Courier New',monospace\"><span style=\"font-weight: bold\"> Non-trainable params: </span><span style=\"color: #00af00; text-decoration-color: #00af00\">1,280</span> (5.00 KB)\n",
       "</pre>\n"
      ],
      "text/plain": [
       "\u001b[1m Non-trainable params: \u001b[0m\u001b[38;5;34m1,280\u001b[0m (5.00 KB)\n"
      ]
     },
     "metadata": {},
     "output_type": "display_data"
    },
    {
     "data": {
      "text/html": [
       "<pre style=\"white-space:pre;overflow-x:auto;line-height:normal;font-family:Menlo,'DejaVu Sans Mono',consolas,'Courier New',monospace\"><span style=\"font-weight: bold\"> Optimizer params: </span><span style=\"color: #00af00; text-decoration-color: #00af00\">3,193,046</span> (12.18 MB)\n",
       "</pre>\n"
      ],
      "text/plain": [
       "\u001b[1m Optimizer params: \u001b[0m\u001b[38;5;34m3,193,046\u001b[0m (12.18 MB)\n"
      ]
     },
     "metadata": {},
     "output_type": "display_data"
    }
   ],
   "source": [
    "#Model\n",
    "model.model.summary()"
   ]
  },
  {
   "cell_type": "code",
   "execution_count": 19,
   "id": "9b476c49",
   "metadata": {
    "execution": {
     "iopub.execute_input": "2025-06-18T16:01:15.114062Z",
     "iopub.status.busy": "2025-06-18T16:01:15.113378Z",
     "iopub.status.idle": "2025-06-18T16:01:17.788615Z",
     "shell.execute_reply": "2025-06-18T16:01:17.787846Z"
    },
    "papermill": {
     "duration": 3.416812,
     "end_time": "2025-06-18T16:01:17.789855",
     "exception": false,
     "start_time": "2025-06-18T16:01:14.373043",
     "status": "completed"
    },
    "tags": []
   },
   "outputs": [
    {
     "name": "stdout",
     "output_type": "stream",
     "text": [
      "\u001b[1m313/313\u001b[0m \u001b[32m━━━━━━━━━━━━━━━━━━━━\u001b[0m\u001b[37m\u001b[0m \u001b[1m2s\u001b[0m 4ms/step\n"
     ]
    }
   ],
   "source": [
    "# Prediction\n",
    "y_pred = model.predictfunc(x_test)\n"
   ]
  },
  {
   "cell_type": "markdown",
   "id": "6eb033e3",
   "metadata": {
    "papermill": {
     "duration": 0.688049,
     "end_time": "2025-06-18T16:01:19.228903",
     "exception": false,
     "start_time": "2025-06-18T16:01:18.540854",
     "status": "completed"
    },
    "tags": []
   },
   "source": [
    "# Evaulating"
   ]
  },
  {
   "cell_type": "markdown",
   "id": "ab79be31",
   "metadata": {
    "execution": {
     "iopub.execute_input": "2025-06-11T10:54:56.446554Z",
     "iopub.status.busy": "2025-06-11T10:54:56.446126Z",
     "iopub.status.idle": "2025-06-11T10:54:56.450283Z",
     "shell.execute_reply": "2025-06-11T10:54:56.449291Z",
     "shell.execute_reply.started": "2025-06-11T10:54:56.446524Z"
    },
    "papermill": {
     "duration": 0.717297,
     "end_time": "2025-06-18T16:01:20.678867",
     "exception": false,
     "start_time": "2025-06-18T16:01:19.961570",
     "status": "completed"
    },
    "tags": []
   },
   "source": [
    "After training, the model outputs a softmax vector for each test sample.</br> \n",
    "Each element in this vector represents the probability assigned to a specific class. </br>\n",
    "The class with the highest probability is selected as the predicted class"
   ]
  },
  {
   "cell_type": "code",
   "execution_count": 20,
   "id": "3a04fff9",
   "metadata": {
    "execution": {
     "iopub.execute_input": "2025-06-18T16:01:22.095610Z",
     "iopub.status.busy": "2025-06-18T16:01:22.095298Z",
     "iopub.status.idle": "2025-06-18T16:01:22.104310Z",
     "shell.execute_reply": "2025-06-18T16:01:22.103612Z"
    },
    "papermill": {
     "duration": 0.694083,
     "end_time": "2025-06-18T16:01:22.105578",
     "exception": false,
     "start_time": "2025-06-18T16:01:21.411495",
     "status": "completed"
    },
    "tags": []
   },
   "outputs": [],
   "source": [
    "#Provides evaluation utilities including ROC curve plotting\n",
    "#and visualization of softmax probabilities as bar plots for sample images.\n",
    "class Evaulate:\n",
    "    \n",
    "    def __init__(self):\n",
    "        \n",
    "        pass\n",
    "\n",
    "    #roc_curve visualization\n",
    "    @staticmethod\n",
    "    def some_roc_curve_visualization(y_true , y_pred):\n",
    "        y_true_one_hot_encoded = np.array([DataUtils.int_to_one_hot_encoding(i, 10) for i in y_true])\n",
    "        y_pred_softmax = np.array(y_pred)\n",
    "\n",
    "        plt.figure(figsize=(10, 8))\n",
    "        for i in range(10):\n",
    "            fpr, tpr, _ = roc_curve(y_true_one_hot_encoded[:, i], y_pred_softmax[:, i])\n",
    "            plt.plot(fpr, tpr, label = Config.get_labels()[i])\n",
    "\n",
    "        plt.xlabel(\"False Positive Rate\")\n",
    "        plt.ylabel(\"True Positive Rate\")\n",
    "        plt.title(\"ROC Curve for Each Class\")\n",
    "        plt.legend()\n",
    "        plt.grid(True)\n",
    "        plt.show()\n",
    "        \n",
    "    #class probability distribution\n",
    "    @staticmethod\n",
    "    def some_probabilities(x_test, y_pred):\n",
    "        labels = Config.get_labels() \n",
    "        plt.figure(figsize=(9, 9))\n",
    "        plt.suptitle(\"Prediction Probabilities for Sample Images\")\n",
    "        for i in range(6):\n",
    "            sample = np.random.randint(0,len(y_pred))\n",
    "            firstindex = i*2\n",
    "            secondindex = i*2+1\n",
    "            plt.subplot(3,4,firstindex+1)\n",
    "            plt.imshow(x_test[sample])\n",
    "            plt.axis(\"off\")\n",
    "            plt.subplot(3,4,secondindex+1)\n",
    "            sns.barplot(x = Config.get_labels() , y = y_pred[sample])\n",
    "            plt.xticks(rotation = 90)\n",
    "        plt.tight_layout()\n",
    "        plt.show()\n",
    "    @staticmethod\n",
    "    def model_comprasion(models , modelnames):\n",
    "        counter = 1\n",
    "        for i in models:\n",
    "            plt.subplot(3,1,counter)\n",
    "            plt.title(modelnames[counter-1])\n",
    "            sns.lineplot(y = i.history.history[\"val_accuracy\"] , x = [1,2,3,4,5,6,7,8,9,10])\n",
    "            plt.xticks(ticks = [1,2,3,4,5,6,7,8,9,10])\n",
    "            plt.xlabel(\"Number of Epoch\")\n",
    "            plt.ylabel(\"Accuracy\")\n",
    "            counter+=1\n",
    "        plt.tight_layout()\n",
    "        plt.show()\n",
    "        \n",
    "        "
   ]
  },
  {
   "cell_type": "markdown",
   "id": "cbb9a1cd",
   "metadata": {
    "papermill": {
     "duration": 0.745844,
     "end_time": "2025-06-18T16:01:23.609531",
     "exception": false,
     "start_time": "2025-06-18T16:01:22.863687",
     "status": "completed"
    },
    "tags": []
   },
   "source": [
    "## Roc Curve"
   ]
  },
  {
   "cell_type": "code",
   "execution_count": 21,
   "id": "16e537b3",
   "metadata": {
    "execution": {
     "iopub.execute_input": "2025-06-18T16:01:25.042138Z",
     "iopub.status.busy": "2025-06-18T16:01:25.041857Z",
     "iopub.status.idle": "2025-06-18T16:01:25.322257Z",
     "shell.execute_reply": "2025-06-18T16:01:25.321550Z"
    },
    "papermill": {
     "duration": 1.023548,
     "end_time": "2025-06-18T16:01:25.323451",
     "exception": false,
     "start_time": "2025-06-18T16:01:24.299903",
     "status": "completed"
    },
    "tags": []
   },
   "outputs": [
    {
     "data": {
      "image/png": "[encoded data removed]",
      "text/plain": [
       "<Figure size 1000x800 with 1 Axes>"
      ]
     },
     "metadata": {},
     "output_type": "display_data"
    }
   ],
   "source": [
    "Evaulate.some_roc_curve_visualization(y_test , y_pred)"
   ]
  },
  {
   "cell_type": "markdown",
   "id": "6cb81cfb",
   "metadata": {
    "papermill": {
     "duration": 0.678353,
     "end_time": "2025-06-18T16:01:26.741346",
     "exception": false,
     "start_time": "2025-06-18T16:01:26.062993",
     "status": "completed"
    },
    "tags": []
   },
   "source": [
    "## Class Probability Distribution"
   ]
  },
  {
   "cell_type": "code",
   "execution_count": 22,
   "id": "4f8ca513",
   "metadata": {
    "execution": {
     "iopub.execute_input": "2025-06-18T16:01:28.224680Z",
     "iopub.status.busy": "2025-06-18T16:01:28.224381Z",
     "iopub.status.idle": "2025-06-18T16:01:29.372805Z",
     "shell.execute_reply": "2025-06-18T16:01:29.372045Z"
    },
    "papermill": {
     "duration": 1.896955,
     "end_time": "2025-06-18T16:01:29.374565",
     "exception": false,
     "start_time": "2025-06-18T16:01:27.477610",
     "status": "completed"
    },
    "tags": []
   },
   "outputs": [
    {
     "data": {
      "image/png": "[encoded data removed]",
      "text/plain": [
       "<Figure size 900x900 with 12 Axes>"
      ]
     },
     "metadata": {},
     "output_type": "display_data"
    }
   ],
   "source": [
    "Evaulate.some_probabilities(x_test , y_pred)"
   ]
  },
  {
   "cell_type": "markdown",
   "id": "b6c8a89f",
   "metadata": {
    "papermill": {
     "duration": 0.772635,
     "end_time": "2025-06-18T16:01:30.879185",
     "exception": false,
     "start_time": "2025-06-18T16:01:30.106550",
     "status": "completed"
    },
    "tags": []
   },
   "source": [
    "# Pre Trained Models"
   ]
  },
  {
   "cell_type": "code",
   "execution_count": 23,
   "id": "cfa7dbff",
   "metadata": {
    "execution": {
     "iopub.execute_input": "2025-06-18T16:01:32.292025Z",
     "iopub.status.busy": "2025-06-18T16:01:32.291310Z",
     "iopub.status.idle": "2025-06-18T16:01:32.301006Z",
     "shell.execute_reply": "2025-06-18T16:01:32.300357Z"
    },
    "papermill": {
     "duration": 0.74736,
     "end_time": "2025-06-18T16:01:32.302025",
     "exception": false,
     "start_time": "2025-06-18T16:01:31.554665",
     "status": "completed"
    },
    "tags": []
   },
   "outputs": [],
   "source": [
    "class KerasModels(tf.keras.Model):\n",
    "    def __init__(self ,basemodelnumber,resize = (128,128),num_classes = 10 , trainable = False):\n",
    "        super().__init__()\n",
    "        \n",
    "        self.resizing = Resizing(resize[0],resize[1])\n",
    "\n",
    "        if(basemodelnumber == 0):\n",
    "            self.preprocess_input = mobilenet_preprocess_input\n",
    "            self.basemodel = MobileNetV2(include_top = False ,weights = \"imagenet\")\n",
    "            \n",
    "        elif(basemodelnumber == 1):\n",
    "            self.preprocess_input = resnet_preprocess_input\n",
    "            self.basemodel = ResNet50(include_top = False ,weights = \"imagenet\")\n",
    "            \n",
    "        elif(basemodelnumber == 2):\n",
    "            self.preprocess_input = efficientnet_preprocess_input\n",
    "            self.basemodel = EfficientNetB1(include_top = False ,weights = \"imagenet\")\n",
    "            \n",
    "        else:\n",
    "            raise Exception(\"Model number should be between 0-2\")\n",
    "            \n",
    "        \n",
    "        \n",
    "        self.basemodel.trainable = trainable\n",
    "        self.globalaveragepooling = GlobalAveragePooling2D()\n",
    "        \n",
    "        self.dense1 = Dense(256 , activation = \"relu\")\n",
    "        self.bt1 = BatchNormalization()\n",
    "        self.dropout1 = Dropout(0.1)\n",
    "\n",
    "        \n",
    "        self.dense2 = Dense(256 , activation = \"relu\")\n",
    "        self.bt2 = BatchNormalization()\n",
    "        self.dropout2 = Dropout(0.1)\n",
    "\n",
    "        self.dense3 = Dense(128 , activation = \"relu\")\n",
    "        self.bt3 = BatchNormalization()\n",
    "        self.dropout3 = Dropout(0.1)\n",
    "        \n",
    "        self.output_layer = Dense(num_classes ,activation = \"softmax\")\n",
    "        \n",
    "        \n",
    "    def call(self , inputs , training = False):\n",
    "        x = self.resizing(inputs)\n",
    "        x = self.preprocess_input(x*255)\n",
    "\n",
    "        x = self.basemodel(x , training = training)\n",
    "        x = self.globalaveragepooling(x)\n",
    "        \n",
    "        x = self.dense1(x)\n",
    "        x = self.bt1(x)\n",
    "        x = self.dropout1(x)\n",
    "        \n",
    "        x = self.dense2(x)\n",
    "        x = self.bt2(x)\n",
    "        x = self.dropout2(x,training = training)\n",
    "\n",
    "        x = self.dense3(x)\n",
    "        x = self.bt3(x)\n",
    "        x = self.dropout3(x,training = training)\n",
    "        \n",
    "        return self.output_layer(x)\n",
    "    \n",
    "    def compile_model(self , optimizer = \"adam\" , loss = \"sparse_categorical_crossentropy\" , metrics = [\"accuracy\"] ):\n",
    "        super().compile(optimizer = optimizer , loss = loss , metrics = metrics)\n",
    "    def fit_model(self , train_data , validation_data , epochs = 10):\n",
    "        earlystopping = EarlyStopping(\n",
    "            restore_best_weights=True,\n",
    "            patience=8,\n",
    "            monitor = \"val_accuracy\",)\n",
    "        super().fit(train_data , validation_data =validation_data,epochs = epochs , callbacks = [earlystopping])\n",
    "        \n",
    "        \n",
    "        "
   ]
  },
  {
   "cell_type": "markdown",
   "id": "3374e088",
   "metadata": {
    "papermill": {
     "duration": 0.679944,
     "end_time": "2025-06-18T16:01:33.726535",
     "exception": false,
     "start_time": "2025-06-18T16:01:33.046591",
     "status": "completed"
    },
    "tags": []
   },
   "source": [
    "## MobileNetV2"
   ]
  },
  {
   "cell_type": "code",
   "execution_count": 24,
   "id": "0b826977",
   "metadata": {
    "execution": {
     "iopub.execute_input": "2025-06-18T16:01:35.230255Z",
     "iopub.status.busy": "2025-06-18T16:01:35.229523Z",
     "iopub.status.idle": "2025-06-18T16:01:36.231964Z",
     "shell.execute_reply": "2025-06-18T16:01:36.231437Z"
    },
    "papermill": {
     "duration": 1.710308,
     "end_time": "2025-06-18T16:01:36.233137",
     "exception": false,
     "start_time": "2025-06-18T16:01:34.522829",
     "status": "completed"
    },
    "tags": []
   },
   "outputs": [
    {
     "name": "stdout",
     "output_type": "stream",
     "text": [
      "Downloading data from https://storage.googleapis.com/tensorflow/keras-applications/mobilenet_v2/mobilenet_v2_weights_tf_dim_ordering_tf_kernels_1.0_224_no_top.h5\n",
      "\u001b[1m9406464/9406464\u001b[0m \u001b[32m━━━━━━━━━━━━━━━━━━━━\u001b[0m\u001b[37m\u001b[0m \u001b[1m0s\u001b[0m 0us/step\n"
     ]
    }
   ],
   "source": [
    "mobilenetv2 = KerasModels(0)\n",
    "mobilenetv2.compile_model()"
   ]
  },
  {
   "cell_type": "code",
   "execution_count": 25,
   "id": "b97b020e",
   "metadata": {
    "execution": {
     "iopub.execute_input": "2025-06-18T16:01:37.702049Z",
     "iopub.status.busy": "2025-06-18T16:01:37.701389Z",
     "iopub.status.idle": "2025-06-18T16:06:26.134380Z",
     "shell.execute_reply": "2025-06-18T16:06:26.133590Z"
    },
    "papermill": {
     "duration": 289.169771,
     "end_time": "2025-06-18T16:06:26.135752",
     "exception": false,
     "start_time": "2025-06-18T16:01:36.965981",
     "status": "completed"
    },
    "tags": []
   },
   "outputs": [
    {
     "name": "stdout",
     "output_type": "stream",
     "text": [
      "Epoch 1/10\n",
      "\u001b[1m391/391\u001b[0m \u001b[32m━━━━━━━━━━━━━━━━━━━━\u001b[0m\u001b[37m\u001b[0m \u001b[1m54s\u001b[0m 97ms/step - accuracy: 0.6171 - loss: 1.1343 - val_accuracy: 0.8231 - val_loss: 0.5161\n",
      "Epoch 2/10\n",
      "\u001b[1m391/391\u001b[0m \u001b[32m━━━━━━━━━━━━━━━━━━━━\u001b[0m\u001b[37m\u001b[0m \u001b[1m26s\u001b[0m 67ms/step - accuracy: 0.7444 - loss: 0.7397 - val_accuracy: 0.8332 - val_loss: 0.4754\n",
      "Epoch 3/10\n",
      "\u001b[1m391/391\u001b[0m \u001b[32m━━━━━━━━━━━━━━━━━━━━\u001b[0m\u001b[37m\u001b[0m \u001b[1m26s\u001b[0m 67ms/step - accuracy: 0.7561 - loss: 0.6968 - val_accuracy: 0.8432 - val_loss: 0.4540\n",
      "Epoch 4/10\n",
      "\u001b[1m391/391\u001b[0m \u001b[32m━━━━━━━━━━━━━━━━━━━━\u001b[0m\u001b[37m\u001b[0m \u001b[1m26s\u001b[0m 66ms/step - accuracy: 0.7630 - loss: 0.6776 - val_accuracy: 0.8426 - val_loss: 0.4576\n",
      "Epoch 5/10\n",
      "\u001b[1m391/391\u001b[0m \u001b[32m━━━━━━━━━━━━━━━━━━━━\u001b[0m\u001b[37m\u001b[0m \u001b[1m26s\u001b[0m 67ms/step - accuracy: 0.7750 - loss: 0.6450 - val_accuracy: 0.8460 - val_loss: 0.4502\n",
      "Epoch 6/10\n",
      "\u001b[1m391/391\u001b[0m \u001b[32m━━━━━━━━━━━━━━━━━━━━\u001b[0m\u001b[37m\u001b[0m \u001b[1m26s\u001b[0m 66ms/step - accuracy: 0.7757 - loss: 0.6469 - val_accuracy: 0.8365 - val_loss: 0.4607\n",
      "Epoch 7/10\n",
      "\u001b[1m391/391\u001b[0m \u001b[32m━━━━━━━━━━━━━━━━━━━━\u001b[0m\u001b[37m\u001b[0m \u001b[1m26s\u001b[0m 67ms/step - accuracy: 0.7809 - loss: 0.6308 - val_accuracy: 0.8466 - val_loss: 0.4360\n",
      "Epoch 8/10\n",
      "\u001b[1m391/391\u001b[0m \u001b[32m━━━━━━━━━━━━━━━━━━━━\u001b[0m\u001b[37m\u001b[0m \u001b[1m27s\u001b[0m 68ms/step - accuracy: 0.7858 - loss: 0.6146 - val_accuracy: 0.8547 - val_loss: 0.4111\n",
      "Epoch 9/10\n",
      "\u001b[1m391/391\u001b[0m \u001b[32m━━━━━━━━━━━━━━━━━━━━\u001b[0m\u001b[37m\u001b[0m \u001b[1m26s\u001b[0m 66ms/step - accuracy: 0.7817 - loss: 0.6165 - val_accuracy: 0.8475 - val_loss: 0.4351\n",
      "Epoch 10/10\n",
      "\u001b[1m391/391\u001b[0m \u001b[32m━━━━━━━━━━━━━━━━━━━━\u001b[0m\u001b[37m\u001b[0m \u001b[1m26s\u001b[0m 66ms/step - accuracy: 0.7873 - loss: 0.6084 - val_accuracy: 0.8455 - val_loss: 0.4421\n"
     ]
    }
   ],
   "source": [
    "mobilenetv2.fit_model(augmented_images , [x_test , y_test])"
   ]
  },
  {
   "cell_type": "code",
   "execution_count": 26,
   "id": "0fd59364",
   "metadata": {
    "execution": {
     "iopub.execute_input": "2025-06-18T16:06:27.912749Z",
     "iopub.status.busy": "2025-06-18T16:06:27.912052Z",
     "iopub.status.idle": "2025-06-18T16:06:27.933832Z",
     "shell.execute_reply": "2025-06-18T16:06:27.933244Z"
    },
    "papermill": {
     "duration": 0.879582,
     "end_time": "2025-06-18T16:06:27.934869",
     "exception": false,
     "start_time": "2025-06-18T16:06:27.055287",
     "status": "completed"
    },
    "tags": []
   },
   "outputs": [
    {
     "data": {
      "text/html": [
       "<pre style=\"white-space:pre;overflow-x:auto;line-height:normal;font-family:Menlo,'DejaVu Sans Mono',consolas,'Courier New',monospace\"><span style=\"font-weight: bold\">Model: \"keras_models\"</span>\n",
       "</pre>\n"
      ],
      "text/plain": [
       "\u001b[1mModel: \"keras_models\"\u001b[0m\n"
      ]
     },
     "metadata": {},
     "output_type": "display_data"
    },
    {
     "data": {
      "text/html": [
       "<pre style=\"white-space:pre;overflow-x:auto;line-height:normal;font-family:Menlo,'DejaVu Sans Mono',consolas,'Courier New',monospace\">┏━━━━━━━━━━━━━━━━━━━━━━━━━━━━━━━━━━━━━━┳━━━━━━━━━━━━━━━━━━━━━━━━━━━━━┳━━━━━━━━━━━━━━━━━┓\n",
       "┃<span style=\"font-weight: bold\"> Layer (type)                         </span>┃<span style=\"font-weight: bold\"> Output Shape                </span>┃<span style=\"font-weight: bold\">         Param # </span>┃\n",
       "┡━━━━━━━━━━━━━━━━━━━━━━━━━━━━━━━━━━━━━━╇━━━━━━━━━━━━━━━━━━━━━━━━━━━━━╇━━━━━━━━━━━━━━━━━┩\n",
       "│ resizing (<span style=\"color: #0087ff; text-decoration-color: #0087ff\">Resizing</span>)                  │ (<span style=\"color: #00d7ff; text-decoration-color: #00d7ff\">None</span>, <span style=\"color: #00af00; text-decoration-color: #00af00\">128</span>, <span style=\"color: #00af00; text-decoration-color: #00af00\">128</span>, <span style=\"color: #00af00; text-decoration-color: #00af00\">3</span>)         │               <span style=\"color: #00af00; text-decoration-color: #00af00\">0</span> │\n",
       "├──────────────────────────────────────┼─────────────────────────────┼─────────────────┤\n",
       "│ mobilenetv2_1.00_224 (<span style=\"color: #0087ff; text-decoration-color: #0087ff\">Functional</span>)    │ (<span style=\"color: #00d7ff; text-decoration-color: #00d7ff\">None</span>, <span style=\"color: #00d7ff; text-decoration-color: #00d7ff\">None</span>, <span style=\"color: #00d7ff; text-decoration-color: #00d7ff\">None</span>, <span style=\"color: #00af00; text-decoration-color: #00af00\">1280</span>)    │       <span style=\"color: #00af00; text-decoration-color: #00af00\">2,257,984</span> │\n",
       "├──────────────────────────────────────┼─────────────────────────────┼─────────────────┤\n",
       "│ global_average_pooling2d             │ ?                           │               <span style=\"color: #00af00; text-decoration-color: #00af00\">0</span> │\n",
       "│ (<span style=\"color: #0087ff; text-decoration-color: #0087ff\">GlobalAveragePooling2D</span>)             │                             │                 │\n",
       "├──────────────────────────────────────┼─────────────────────────────┼─────────────────┤\n",
       "│ dense_2 (<span style=\"color: #0087ff; text-decoration-color: #0087ff\">Dense</span>)                      │ (<span style=\"color: #00d7ff; text-decoration-color: #00d7ff\">None</span>, <span style=\"color: #00af00; text-decoration-color: #00af00\">256</span>)                 │         <span style=\"color: #00af00; text-decoration-color: #00af00\">327,936</span> │\n",
       "├──────────────────────────────────────┼─────────────────────────────┼─────────────────┤\n",
       "│ batch_normalization_7                │ (<span style=\"color: #00d7ff; text-decoration-color: #00d7ff\">None</span>, <span style=\"color: #00af00; text-decoration-color: #00af00\">256</span>)                 │           <span style=\"color: #00af00; text-decoration-color: #00af00\">1,024</span> │\n",
       "│ (<span style=\"color: #0087ff; text-decoration-color: #0087ff\">BatchNormalization</span>)                 │                             │                 │\n",
       "├──────────────────────────────────────┼─────────────────────────────┼─────────────────┤\n",
       "│ dropout_2 (<span style=\"color: #0087ff; text-decoration-color: #0087ff\">Dropout</span>)                  │ ?                           │               <span style=\"color: #00af00; text-decoration-color: #00af00\">0</span> │\n",
       "├──────────────────────────────────────┼─────────────────────────────┼─────────────────┤\n",
       "│ dense_3 (<span style=\"color: #0087ff; text-decoration-color: #0087ff\">Dense</span>)                      │ (<span style=\"color: #00d7ff; text-decoration-color: #00d7ff\">None</span>, <span style=\"color: #00af00; text-decoration-color: #00af00\">256</span>)                 │          <span style=\"color: #00af00; text-decoration-color: #00af00\">65,792</span> │\n",
       "├──────────────────────────────────────┼─────────────────────────────┼─────────────────┤\n",
       "│ batch_normalization_8                │ (<span style=\"color: #00d7ff; text-decoration-color: #00d7ff\">None</span>, <span style=\"color: #00af00; text-decoration-color: #00af00\">256</span>)                 │           <span style=\"color: #00af00; text-decoration-color: #00af00\">1,024</span> │\n",
       "│ (<span style=\"color: #0087ff; text-decoration-color: #0087ff\">BatchNormalization</span>)                 │                             │                 │\n",
       "├──────────────────────────────────────┼─────────────────────────────┼─────────────────┤\n",
       "│ dropout_3 (<span style=\"color: #0087ff; text-decoration-color: #0087ff\">Dropout</span>)                  │ ?                           │               <span style=\"color: #00af00; text-decoration-color: #00af00\">0</span> │\n",
       "├──────────────────────────────────────┼─────────────────────────────┼─────────────────┤\n",
       "│ dense_4 (<span style=\"color: #0087ff; text-decoration-color: #0087ff\">Dense</span>)                      │ (<span style=\"color: #00d7ff; text-decoration-color: #00d7ff\">None</span>, <span style=\"color: #00af00; text-decoration-color: #00af00\">128</span>)                 │          <span style=\"color: #00af00; text-decoration-color: #00af00\">32,896</span> │\n",
       "├──────────────────────────────────────┼─────────────────────────────┼─────────────────┤\n",
       "│ batch_normalization_9                │ (<span style=\"color: #00d7ff; text-decoration-color: #00d7ff\">None</span>, <span style=\"color: #00af00; text-decoration-color: #00af00\">128</span>)                 │             <span style=\"color: #00af00; text-decoration-color: #00af00\">512</span> │\n",
       "│ (<span style=\"color: #0087ff; text-decoration-color: #0087ff\">BatchNormalization</span>)                 │                             │                 │\n",
       "├──────────────────────────────────────┼─────────────────────────────┼─────────────────┤\n",
       "│ dropout_4 (<span style=\"color: #0087ff; text-decoration-color: #0087ff\">Dropout</span>)                  │ ?                           │               <span style=\"color: #00af00; text-decoration-color: #00af00\">0</span> │\n",
       "├──────────────────────────────────────┼─────────────────────────────┼─────────────────┤\n",
       "│ dense_5 (<span style=\"color: #0087ff; text-decoration-color: #0087ff\">Dense</span>)                      │ (<span style=\"color: #00d7ff; text-decoration-color: #00d7ff\">None</span>, <span style=\"color: #00af00; text-decoration-color: #00af00\">10</span>)                  │           <span style=\"color: #00af00; text-decoration-color: #00af00\">1,290</span> │\n",
       "└──────────────────────────────────────┴─────────────────────────────┴─────────────────┘\n",
       "</pre>\n"
      ],
      "text/plain": [
       "┏━━━━━━━━━━━━━━━━━━━━━━━━━━━━━━━━━━━━━━┳━━━━━━━━━━━━━━━━━━━━━━━━━━━━━┳━━━━━━━━━━━━━━━━━┓\n",
       "┃\u001b[1m \u001b[0m\u001b[1mLayer (type)                        \u001b[0m\u001b[1m \u001b[0m┃\u001b[1m \u001b[0m\u001b[1mOutput Shape               \u001b[0m\u001b[1m \u001b[0m┃\u001b[1m \u001b[0m\u001b[1m        Param #\u001b[0m\u001b[1m \u001b[0m┃\n",
       "┡━━━━━━━━━━━━━━━━━━━━━━━━━━━━━━━━━━━━━━╇━━━━━━━━━━━━━━━━━━━━━━━━━━━━━╇━━━━━━━━━━━━━━━━━┩\n",
       "│ resizing (\u001b[38;5;33mResizing\u001b[0m)                  │ (\u001b[38;5;45mNone\u001b[0m, \u001b[38;5;34m128\u001b[0m, \u001b[38;5;34m128\u001b[0m, \u001b[38;5;34m3\u001b[0m)         │               \u001b[38;5;34m0\u001b[0m │\n",
       "├──────────────────────────────────────┼─────────────────────────────┼─────────────────┤\n",
       "│ mobilenetv2_1.00_224 (\u001b[38;5;33mFunctional\u001b[0m)    │ (\u001b[38;5;45mNone\u001b[0m, \u001b[38;5;45mNone\u001b[0m, \u001b[38;5;45mNone\u001b[0m, \u001b[38;5;34m1280\u001b[0m)    │       \u001b[38;5;34m2,257,984\u001b[0m │\n",
       "├──────────────────────────────────────┼─────────────────────────────┼─────────────────┤\n",
       "│ global_average_pooling2d             │ ?                           │               \u001b[38;5;34m0\u001b[0m │\n",
       "│ (\u001b[38;5;33mGlobalAveragePooling2D\u001b[0m)             │                             │                 │\n",
       "├──────────────────────────────────────┼─────────────────────────────┼─────────────────┤\n",
       "│ dense_2 (\u001b[38;5;33mDense\u001b[0m)                      │ (\u001b[38;5;45mNone\u001b[0m, \u001b[38;5;34m256\u001b[0m)                 │         \u001b[38;5;34m327,936\u001b[0m │\n",
       "├──────────────────────────────────────┼─────────────────────────────┼─────────────────┤\n",
       "│ batch_normalization_7                │ (\u001b[38;5;45mNone\u001b[0m, \u001b[38;5;34m256\u001b[0m)                 │           \u001b[38;5;34m1,024\u001b[0m │\n",
       "│ (\u001b[38;5;33mBatchNormalization\u001b[0m)                 │                             │                 │\n",
       "├──────────────────────────────────────┼─────────────────────────────┼─────────────────┤\n",
       "│ dropout_2 (\u001b[38;5;33mDropout\u001b[0m)                  │ ?                           │               \u001b[38;5;34m0\u001b[0m │\n",
       "├──────────────────────────────────────┼─────────────────────────────┼─────────────────┤\n",
       "│ dense_3 (\u001b[38;5;33mDense\u001b[0m)                      │ (\u001b[38;5;45mNone\u001b[0m, \u001b[38;5;34m256\u001b[0m)                 │          \u001b[38;5;34m65,792\u001b[0m │\n",
       "├──────────────────────────────────────┼─────────────────────────────┼─────────────────┤\n",
       "│ batch_normalization_8                │ (\u001b[38;5;45mNone\u001b[0m, \u001b[38;5;34m256\u001b[0m)                 │           \u001b[38;5;34m1,024\u001b[0m │\n",
       "│ (\u001b[38;5;33mBatchNormalization\u001b[0m)                 │                             │                 │\n",
       "├──────────────────────────────────────┼─────────────────────────────┼─────────────────┤\n",
       "│ dropout_3 (\u001b[38;5;33mDropout\u001b[0m)                  │ ?                           │               \u001b[38;5;34m0\u001b[0m │\n",
       "├──────────────────────────────────────┼─────────────────────────────┼─────────────────┤\n",
       "│ dense_4 (\u001b[38;5;33mDense\u001b[0m)                      │ (\u001b[38;5;45mNone\u001b[0m, \u001b[38;5;34m128\u001b[0m)                 │          \u001b[38;5;34m32,896\u001b[0m │\n",
       "├──────────────────────────────────────┼─────────────────────────────┼─────────────────┤\n",
       "│ batch_normalization_9                │ (\u001b[38;5;45mNone\u001b[0m, \u001b[38;5;34m128\u001b[0m)                 │             \u001b[38;5;34m512\u001b[0m │\n",
       "│ (\u001b[38;5;33mBatchNormalization\u001b[0m)                 │                             │                 │\n",
       "├──────────────────────────────────────┼─────────────────────────────┼─────────────────┤\n",
       "│ dropout_4 (\u001b[38;5;33mDropout\u001b[0m)                  │ ?                           │               \u001b[38;5;34m0\u001b[0m │\n",
       "├──────────────────────────────────────┼─────────────────────────────┼─────────────────┤\n",
       "│ dense_5 (\u001b[38;5;33mDense\u001b[0m)                      │ (\u001b[38;5;45mNone\u001b[0m, \u001b[38;5;34m10\u001b[0m)                  │           \u001b[38;5;34m1,290\u001b[0m │\n",
       "└──────────────────────────────────────┴─────────────────────────────┴─────────────────┘\n"
      ]
     },
     "metadata": {},
     "output_type": "display_data"
    },
    {
     "data": {
      "text/html": [
       "<pre style=\"white-space:pre;overflow-x:auto;line-height:normal;font-family:Menlo,'DejaVu Sans Mono',consolas,'Courier New',monospace\"><span style=\"font-weight: bold\"> Total params: </span><span style=\"color: #00af00; text-decoration-color: #00af00\">3,546,848</span> (13.53 MB)\n",
       "</pre>\n"
      ],
      "text/plain": [
       "\u001b[1m Total params: \u001b[0m\u001b[38;5;34m3,546,848\u001b[0m (13.53 MB)\n"
      ]
     },
     "metadata": {},
     "output_type": "display_data"
    },
    {
     "data": {
      "text/html": [
       "<pre style=\"white-space:pre;overflow-x:auto;line-height:normal;font-family:Menlo,'DejaVu Sans Mono',consolas,'Courier New',monospace\"><span style=\"font-weight: bold\"> Trainable params: </span><span style=\"color: #00af00; text-decoration-color: #00af00\">429,194</span> (1.64 MB)\n",
       "</pre>\n"
      ],
      "text/plain": [
       "\u001b[1m Trainable params: \u001b[0m\u001b[38;5;34m429,194\u001b[0m (1.64 MB)\n"
      ]
     },
     "metadata": {},
     "output_type": "display_data"
    },
    {
     "data": {
      "text/html": [
       "<pre style=\"white-space:pre;overflow-x:auto;line-height:normal;font-family:Menlo,'DejaVu Sans Mono',consolas,'Courier New',monospace\"><span style=\"font-weight: bold\"> Non-trainable params: </span><span style=\"color: #00af00; text-decoration-color: #00af00\">2,259,264</span> (8.62 MB)\n",
       "</pre>\n"
      ],
      "text/plain": [
       "\u001b[1m Non-trainable params: \u001b[0m\u001b[38;5;34m2,259,264\u001b[0m (8.62 MB)\n"
      ]
     },
     "metadata": {},
     "output_type": "display_data"
    },
    {
     "data": {
      "text/html": [
       "<pre style=\"white-space:pre;overflow-x:auto;line-height:normal;font-family:Menlo,'DejaVu Sans Mono',consolas,'Courier New',monospace\"><span style=\"font-weight: bold\"> Optimizer params: </span><span style=\"color: #00af00; text-decoration-color: #00af00\">858,390</span> (3.27 MB)\n",
       "</pre>\n"
      ],
      "text/plain": [
       "\u001b[1m Optimizer params: \u001b[0m\u001b[38;5;34m858,390\u001b[0m (3.27 MB)\n"
      ]
     },
     "metadata": {},
     "output_type": "display_data"
    }
   ],
   "source": [
    "mobilenetv2.summary()"
   ]
  },
  {
   "cell_type": "markdown",
   "id": "6e8ff22b",
   "metadata": {
    "papermill": {
     "duration": 0.915654,
     "end_time": "2025-06-18T16:06:29.759847",
     "exception": false,
     "start_time": "2025-06-18T16:06:28.844193",
     "status": "completed"
    },
    "tags": []
   },
   "source": [
    "## ResNet50"
   ]
  },
  {
   "cell_type": "code",
   "execution_count": 27,
   "id": "86ea844c",
   "metadata": {
    "execution": {
     "iopub.execute_input": "2025-06-18T16:06:31.629811Z",
     "iopub.status.busy": "2025-06-18T16:06:31.629200Z",
     "iopub.status.idle": "2025-06-18T16:06:33.250412Z",
     "shell.execute_reply": "2025-06-18T16:06:33.249613Z"
    },
    "papermill": {
     "duration": 2.546912,
     "end_time": "2025-06-18T16:06:33.251881",
     "exception": false,
     "start_time": "2025-06-18T16:06:30.704969",
     "status": "completed"
    },
    "tags": []
   },
   "outputs": [
    {
     "name": "stdout",
     "output_type": "stream",
     "text": [
      "Downloading data from https://storage.googleapis.com/tensorflow/keras-applications/resnet/resnet50_weights_tf_dim_ordering_tf_kernels_notop.h5\n",
      "\u001b[1m94765736/94765736\u001b[0m \u001b[32m━━━━━━━━━━━━━━━━━━━━\u001b[0m\u001b[37m\u001b[0m \u001b[1m0s\u001b[0m 0us/step\n"
     ]
    }
   ],
   "source": [
    "resnet50 = KerasModels(1)\n",
    "resnet50.compile_model()"
   ]
  },
  {
   "cell_type": "code",
   "execution_count": 28,
   "id": "d7d7e4d6",
   "metadata": {
    "execution": {
     "iopub.execute_input": "2025-06-18T16:06:35.029132Z",
     "iopub.status.busy": "2025-06-18T16:06:35.028874Z",
     "iopub.status.idle": "2025-06-18T16:12:23.697200Z",
     "shell.execute_reply": "2025-06-18T16:12:23.696474Z"
    },
    "papermill": {
     "duration": 350.499278,
     "end_time": "2025-06-18T16:12:24.615028",
     "exception": false,
     "start_time": "2025-06-18T16:06:34.115750",
     "status": "completed"
    },
    "tags": []
   },
   "outputs": [
    {
     "name": "stdout",
     "output_type": "stream",
     "text": [
      "Epoch 1/10\n",
      "\u001b[1m391/391\u001b[0m \u001b[32m━━━━━━━━━━━━━━━━━━━━\u001b[0m\u001b[37m\u001b[0m \u001b[1m65s\u001b[0m 114ms/step - accuracy: 0.6845 - loss: 0.9316 - val_accuracy: 0.8634 - val_loss: 0.3925\n",
      "Epoch 2/10\n",
      "\u001b[1m391/391\u001b[0m \u001b[32m━━━━━━━━━━━━━━━━━━━━\u001b[0m\u001b[37m\u001b[0m \u001b[1m31s\u001b[0m 78ms/step - accuracy: 0.7962 - loss: 0.5783 - val_accuracy: 0.8735 - val_loss: 0.3611\n",
      "Epoch 3/10\n",
      "\u001b[1m391/391\u001b[0m \u001b[32m━━━━━━━━━━━━━━━━━━━━\u001b[0m\u001b[37m\u001b[0m \u001b[1m31s\u001b[0m 79ms/step - accuracy: 0.8138 - loss: 0.5300 - val_accuracy: 0.8878 - val_loss: 0.3276\n",
      "Epoch 4/10\n",
      "\u001b[1m391/391\u001b[0m \u001b[32m━━━━━━━━━━━━━━━━━━━━\u001b[0m\u001b[37m\u001b[0m \u001b[1m32s\u001b[0m 82ms/step - accuracy: 0.8267 - loss: 0.4988 - val_accuracy: 0.8887 - val_loss: 0.3232\n",
      "Epoch 5/10\n",
      "\u001b[1m391/391\u001b[0m \u001b[32m━━━━━━━━━━━━━━━━━━━━\u001b[0m\u001b[37m\u001b[0m \u001b[1m31s\u001b[0m 79ms/step - accuracy: 0.8356 - loss: 0.4726 - val_accuracy: 0.8870 - val_loss: 0.3322\n",
      "Epoch 6/10\n",
      "\u001b[1m391/391\u001b[0m \u001b[32m━━━━━━━━━━━━━━━━━━━━\u001b[0m\u001b[37m\u001b[0m \u001b[1m32s\u001b[0m 80ms/step - accuracy: 0.8373 - loss: 0.4656 - val_accuracy: 0.8900 - val_loss: 0.3219\n",
      "Epoch 7/10\n",
      "\u001b[1m391/391\u001b[0m \u001b[32m━━━━━━━━━━━━━━━━━━━━\u001b[0m\u001b[37m\u001b[0m \u001b[1m32s\u001b[0m 81ms/step - accuracy: 0.8431 - loss: 0.4496 - val_accuracy: 0.8881 - val_loss: 0.3245\n",
      "Epoch 8/10\n",
      "\u001b[1m391/391\u001b[0m \u001b[32m━━━━━━━━━━━━━━━━━━━━\u001b[0m\u001b[37m\u001b[0m \u001b[1m32s\u001b[0m 82ms/step - accuracy: 0.8451 - loss: 0.4398 - val_accuracy: 0.8940 - val_loss: 0.3101\n",
      "Epoch 9/10\n",
      "\u001b[1m391/391\u001b[0m \u001b[32m━━━━━━━━━━━━━━━━━━━━\u001b[0m\u001b[37m\u001b[0m \u001b[1m32s\u001b[0m 81ms/step - accuracy: 0.8518 - loss: 0.4286 - val_accuracy: 0.8908 - val_loss: 0.3116\n",
      "Epoch 10/10\n",
      "\u001b[1m391/391\u001b[0m \u001b[32m━━━━━━━━━━━━━━━━━━━━\u001b[0m\u001b[37m\u001b[0m \u001b[1m32s\u001b[0m 81ms/step - accuracy: 0.8514 - loss: 0.4199 - val_accuracy: 0.8927 - val_loss: 0.3103\n"
     ]
    }
   ],
   "source": [
    "resnet50.fit_model(augmented_images , [x_test , y_test])"
   ]
  },
  {
   "cell_type": "code",
   "execution_count": 29,
   "id": "8c5923f3",
   "metadata": {
    "execution": {
     "iopub.execute_input": "2025-06-18T16:12:26.812202Z",
     "iopub.status.busy": "2025-06-18T16:12:26.811656Z",
     "iopub.status.idle": "2025-06-18T16:12:26.833632Z",
     "shell.execute_reply": "2025-06-18T16:12:26.832966Z"
    },
    "papermill": {
     "duration": 1.127549,
     "end_time": "2025-06-18T16:12:26.834670",
     "exception": false,
     "start_time": "2025-06-18T16:12:25.707121",
     "status": "completed"
    },
    "tags": []
   },
   "outputs": [
    {
     "data": {
      "text/html": [
       "<pre style=\"white-space:pre;overflow-x:auto;line-height:normal;font-family:Menlo,'DejaVu Sans Mono',consolas,'Courier New',monospace\"><span style=\"font-weight: bold\">Model: \"keras_models_1\"</span>\n",
       "</pre>\n"
      ],
      "text/plain": [
       "\u001b[1mModel: \"keras_models_1\"\u001b[0m\n"
      ]
     },
     "metadata": {},
     "output_type": "display_data"
    },
    {
     "data": {
      "text/html": [
       "<pre style=\"white-space:pre;overflow-x:auto;line-height:normal;font-family:Menlo,'DejaVu Sans Mono',consolas,'Courier New',monospace\">┏━━━━━━━━━━━━━━━━━━━━━━━━━━━━━━━━━━━━━━┳━━━━━━━━━━━━━━━━━━━━━━━━━━━━━┳━━━━━━━━━━━━━━━━━┓\n",
       "┃<span style=\"font-weight: bold\"> Layer (type)                         </span>┃<span style=\"font-weight: bold\"> Output Shape                </span>┃<span style=\"font-weight: bold\">         Param # </span>┃\n",
       "┡━━━━━━━━━━━━━━━━━━━━━━━━━━━━━━━━━━━━━━╇━━━━━━━━━━━━━━━━━━━━━━━━━━━━━╇━━━━━━━━━━━━━━━━━┩\n",
       "│ resizing_1 (<span style=\"color: #0087ff; text-decoration-color: #0087ff\">Resizing</span>)                │ (<span style=\"color: #00d7ff; text-decoration-color: #00d7ff\">None</span>, <span style=\"color: #00af00; text-decoration-color: #00af00\">128</span>, <span style=\"color: #00af00; text-decoration-color: #00af00\">128</span>, <span style=\"color: #00af00; text-decoration-color: #00af00\">3</span>)         │               <span style=\"color: #00af00; text-decoration-color: #00af00\">0</span> │\n",
       "├──────────────────────────────────────┼─────────────────────────────┼─────────────────┤\n",
       "│ resnet50 (<span style=\"color: #0087ff; text-decoration-color: #0087ff\">Functional</span>)                │ (<span style=\"color: #00d7ff; text-decoration-color: #00d7ff\">None</span>, <span style=\"color: #00d7ff; text-decoration-color: #00d7ff\">None</span>, <span style=\"color: #00d7ff; text-decoration-color: #00d7ff\">None</span>, <span style=\"color: #00af00; text-decoration-color: #00af00\">2048</span>)    │      <span style=\"color: #00af00; text-decoration-color: #00af00\">23,587,712</span> │\n",
       "├──────────────────────────────────────┼─────────────────────────────┼─────────────────┤\n",
       "│ global_average_pooling2d_1           │ ?                           │               <span style=\"color: #00af00; text-decoration-color: #00af00\">0</span> │\n",
       "│ (<span style=\"color: #0087ff; text-decoration-color: #0087ff\">GlobalAveragePooling2D</span>)             │                             │                 │\n",
       "├──────────────────────────────────────┼─────────────────────────────┼─────────────────┤\n",
       "│ dense_6 (<span style=\"color: #0087ff; text-decoration-color: #0087ff\">Dense</span>)                      │ (<span style=\"color: #00d7ff; text-decoration-color: #00d7ff\">None</span>, <span style=\"color: #00af00; text-decoration-color: #00af00\">256</span>)                 │         <span style=\"color: #00af00; text-decoration-color: #00af00\">524,544</span> │\n",
       "├──────────────────────────────────────┼─────────────────────────────┼─────────────────┤\n",
       "│ batch_normalization_10               │ (<span style=\"color: #00d7ff; text-decoration-color: #00d7ff\">None</span>, <span style=\"color: #00af00; text-decoration-color: #00af00\">256</span>)                 │           <span style=\"color: #00af00; text-decoration-color: #00af00\">1,024</span> │\n",
       "│ (<span style=\"color: #0087ff; text-decoration-color: #0087ff\">BatchNormalization</span>)                 │                             │                 │\n",
       "├──────────────────────────────────────┼─────────────────────────────┼─────────────────┤\n",
       "│ dropout_5 (<span style=\"color: #0087ff; text-decoration-color: #0087ff\">Dropout</span>)                  │ ?                           │               <span style=\"color: #00af00; text-decoration-color: #00af00\">0</span> │\n",
       "├──────────────────────────────────────┼─────────────────────────────┼─────────────────┤\n",
       "│ dense_7 (<span style=\"color: #0087ff; text-decoration-color: #0087ff\">Dense</span>)                      │ (<span style=\"color: #00d7ff; text-decoration-color: #00d7ff\">None</span>, <span style=\"color: #00af00; text-decoration-color: #00af00\">256</span>)                 │          <span style=\"color: #00af00; text-decoration-color: #00af00\">65,792</span> │\n",
       "├──────────────────────────────────────┼─────────────────────────────┼─────────────────┤\n",
       "│ batch_normalization_11               │ (<span style=\"color: #00d7ff; text-decoration-color: #00d7ff\">None</span>, <span style=\"color: #00af00; text-decoration-color: #00af00\">256</span>)                 │           <span style=\"color: #00af00; text-decoration-color: #00af00\">1,024</span> │\n",
       "│ (<span style=\"color: #0087ff; text-decoration-color: #0087ff\">BatchNormalization</span>)                 │                             │                 │\n",
       "├──────────────────────────────────────┼─────────────────────────────┼─────────────────┤\n",
       "│ dropout_6 (<span style=\"color: #0087ff; text-decoration-color: #0087ff\">Dropout</span>)                  │ ?                           │               <span style=\"color: #00af00; text-decoration-color: #00af00\">0</span> │\n",
       "├──────────────────────────────────────┼─────────────────────────────┼─────────────────┤\n",
       "│ dense_8 (<span style=\"color: #0087ff; text-decoration-color: #0087ff\">Dense</span>)                      │ (<span style=\"color: #00d7ff; text-decoration-color: #00d7ff\">None</span>, <span style=\"color: #00af00; text-decoration-color: #00af00\">128</span>)                 │          <span style=\"color: #00af00; text-decoration-color: #00af00\">32,896</span> │\n",
       "├──────────────────────────────────────┼─────────────────────────────┼─────────────────┤\n",
       "│ batch_normalization_12               │ (<span style=\"color: #00d7ff; text-decoration-color: #00d7ff\">None</span>, <span style=\"color: #00af00; text-decoration-color: #00af00\">128</span>)                 │             <span style=\"color: #00af00; text-decoration-color: #00af00\">512</span> │\n",
       "│ (<span style=\"color: #0087ff; text-decoration-color: #0087ff\">BatchNormalization</span>)                 │                             │                 │\n",
       "├──────────────────────────────────────┼─────────────────────────────┼─────────────────┤\n",
       "│ dropout_7 (<span style=\"color: #0087ff; text-decoration-color: #0087ff\">Dropout</span>)                  │ ?                           │               <span style=\"color: #00af00; text-decoration-color: #00af00\">0</span> │\n",
       "├──────────────────────────────────────┼─────────────────────────────┼─────────────────┤\n",
       "│ dense_9 (<span style=\"color: #0087ff; text-decoration-color: #0087ff\">Dense</span>)                      │ (<span style=\"color: #00d7ff; text-decoration-color: #00d7ff\">None</span>, <span style=\"color: #00af00; text-decoration-color: #00af00\">10</span>)                  │           <span style=\"color: #00af00; text-decoration-color: #00af00\">1,290</span> │\n",
       "└──────────────────────────────────────┴─────────────────────────────┴─────────────────┘\n",
       "</pre>\n"
      ],
      "text/plain": [
       "┏━━━━━━━━━━━━━━━━━━━━━━━━━━━━━━━━━━━━━━┳━━━━━━━━━━━━━━━━━━━━━━━━━━━━━┳━━━━━━━━━━━━━━━━━┓\n",
       "┃\u001b[1m \u001b[0m\u001b[1mLayer (type)                        \u001b[0m\u001b[1m \u001b[0m┃\u001b[1m \u001b[0m\u001b[1mOutput Shape               \u001b[0m\u001b[1m \u001b[0m┃\u001b[1m \u001b[0m\u001b[1m        Param #\u001b[0m\u001b[1m \u001b[0m┃\n",
       "┡━━━━━━━━━━━━━━━━━━━━━━━━━━━━━━━━━━━━━━╇━━━━━━━━━━━━━━━━━━━━━━━━━━━━━╇━━━━━━━━━━━━━━━━━┩\n",
       "│ resizing_1 (\u001b[38;5;33mResizing\u001b[0m)                │ (\u001b[38;5;45mNone\u001b[0m, \u001b[38;5;34m128\u001b[0m, \u001b[38;5;34m128\u001b[0m, \u001b[38;5;34m3\u001b[0m)         │               \u001b[38;5;34m0\u001b[0m │\n",
       "├──────────────────────────────────────┼─────────────────────────────┼─────────────────┤\n",
       "│ resnet50 (\u001b[38;5;33mFunctional\u001b[0m)                │ (\u001b[38;5;45mNone\u001b[0m, \u001b[38;5;45mNone\u001b[0m, \u001b[38;5;45mNone\u001b[0m, \u001b[38;5;34m2048\u001b[0m)    │      \u001b[38;5;34m23,587,712\u001b[0m │\n",
       "├──────────────────────────────────────┼─────────────────────────────┼─────────────────┤\n",
       "│ global_average_pooling2d_1           │ ?                           │               \u001b[38;5;34m0\u001b[0m │\n",
       "│ (\u001b[38;5;33mGlobalAveragePooling2D\u001b[0m)             │                             │                 │\n",
       "├──────────────────────────────────────┼─────────────────────────────┼─────────────────┤\n",
       "│ dense_6 (\u001b[38;5;33mDense\u001b[0m)                      │ (\u001b[38;5;45mNone\u001b[0m, \u001b[38;5;34m256\u001b[0m)                 │         \u001b[38;5;34m524,544\u001b[0m │\n",
       "├──────────────────────────────────────┼─────────────────────────────┼─────────────────┤\n",
       "│ batch_normalization_10               │ (\u001b[38;5;45mNone\u001b[0m, \u001b[38;5;34m256\u001b[0m)                 │           \u001b[38;5;34m1,024\u001b[0m │\n",
       "│ (\u001b[38;5;33mBatchNormalization\u001b[0m)                 │                             │                 │\n",
       "├──────────────────────────────────────┼─────────────────────────────┼─────────────────┤\n",
       "│ dropout_5 (\u001b[38;5;33mDropout\u001b[0m)                  │ ?                           │               \u001b[38;5;34m0\u001b[0m │\n",
       "├──────────────────────────────────────┼─────────────────────────────┼─────────────────┤\n",
       "│ dense_7 (\u001b[38;5;33mDense\u001b[0m)                      │ (\u001b[38;5;45mNone\u001b[0m, \u001b[38;5;34m256\u001b[0m)                 │          \u001b[38;5;34m65,792\u001b[0m │\n",
       "├──────────────────────────────────────┼─────────────────────────────┼─────────────────┤\n",
       "│ batch_normalization_11               │ (\u001b[38;5;45mNone\u001b[0m, \u001b[38;5;34m256\u001b[0m)                 │           \u001b[38;5;34m1,024\u001b[0m │\n",
       "│ (\u001b[38;5;33mBatchNormalization\u001b[0m)                 │                             │                 │\n",
       "├──────────────────────────────────────┼─────────────────────────────┼─────────────────┤\n",
       "│ dropout_6 (\u001b[38;5;33mDropout\u001b[0m)                  │ ?                           │               \u001b[38;5;34m0\u001b[0m │\n",
       "├──────────────────────────────────────┼─────────────────────────────┼─────────────────┤\n",
       "│ dense_8 (\u001b[38;5;33mDense\u001b[0m)                      │ (\u001b[38;5;45mNone\u001b[0m, \u001b[38;5;34m128\u001b[0m)                 │          \u001b[38;5;34m32,896\u001b[0m │\n",
       "├──────────────────────────────────────┼─────────────────────────────┼─────────────────┤\n",
       "│ batch_normalization_12               │ (\u001b[38;5;45mNone\u001b[0m, \u001b[38;5;34m128\u001b[0m)                 │             \u001b[38;5;34m512\u001b[0m │\n",
       "│ (\u001b[38;5;33mBatchNormalization\u001b[0m)                 │                             │                 │\n",
       "├──────────────────────────────────────┼─────────────────────────────┼─────────────────┤\n",
       "│ dropout_7 (\u001b[38;5;33mDropout\u001b[0m)                  │ ?                           │               \u001b[38;5;34m0\u001b[0m │\n",
       "├──────────────────────────────────────┼─────────────────────────────┼─────────────────┤\n",
       "│ dense_9 (\u001b[38;5;33mDense\u001b[0m)                      │ (\u001b[38;5;45mNone\u001b[0m, \u001b[38;5;34m10\u001b[0m)                  │           \u001b[38;5;34m1,290\u001b[0m │\n",
       "└──────────────────────────────────────┴─────────────────────────────┴─────────────────┘\n"
      ]
     },
     "metadata": {},
     "output_type": "display_data"
    },
    {
     "data": {
      "text/html": [
       "<pre style=\"white-space:pre;overflow-x:auto;line-height:normal;font-family:Menlo,'DejaVu Sans Mono',consolas,'Courier New',monospace\"><span style=\"font-weight: bold\"> Total params: </span><span style=\"color: #00af00; text-decoration-color: #00af00\">25,466,400</span> (97.15 MB)\n",
       "</pre>\n"
      ],
      "text/plain": [
       "\u001b[1m Total params: \u001b[0m\u001b[38;5;34m25,466,400\u001b[0m (97.15 MB)\n"
      ]
     },
     "metadata": {},
     "output_type": "display_data"
    },
    {
     "data": {
      "text/html": [
       "<pre style=\"white-space:pre;overflow-x:auto;line-height:normal;font-family:Menlo,'DejaVu Sans Mono',consolas,'Courier New',monospace\"><span style=\"font-weight: bold\"> Trainable params: </span><span style=\"color: #00af00; text-decoration-color: #00af00\">625,802</span> (2.39 MB)\n",
       "</pre>\n"
      ],
      "text/plain": [
       "\u001b[1m Trainable params: \u001b[0m\u001b[38;5;34m625,802\u001b[0m (2.39 MB)\n"
      ]
     },
     "metadata": {},
     "output_type": "display_data"
    },
    {
     "data": {
      "text/html": [
       "<pre style=\"white-space:pre;overflow-x:auto;line-height:normal;font-family:Menlo,'DejaVu Sans Mono',consolas,'Courier New',monospace\"><span style=\"font-weight: bold\"> Non-trainable params: </span><span style=\"color: #00af00; text-decoration-color: #00af00\">23,588,992</span> (89.98 MB)\n",
       "</pre>\n"
      ],
      "text/plain": [
       "\u001b[1m Non-trainable params: \u001b[0m\u001b[38;5;34m23,588,992\u001b[0m (89.98 MB)\n"
      ]
     },
     "metadata": {},
     "output_type": "display_data"
    },
    {
     "data": {
      "text/html": [
       "<pre style=\"white-space:pre;overflow-x:auto;line-height:normal;font-family:Menlo,'DejaVu Sans Mono',consolas,'Courier New',monospace\"><span style=\"font-weight: bold\"> Optimizer params: </span><span style=\"color: #00af00; text-decoration-color: #00af00\">1,251,606</span> (4.77 MB)\n",
       "</pre>\n"
      ],
      "text/plain": [
       "\u001b[1m Optimizer params: \u001b[0m\u001b[38;5;34m1,251,606\u001b[0m (4.77 MB)\n"
      ]
     },
     "metadata": {},
     "output_type": "display_data"
    }
   ],
   "source": [
    "resnet50.summary()"
   ]
  },
  {
   "cell_type": "markdown",
   "id": "144b98f6",
   "metadata": {
    "papermill": {
     "duration": 1.109452,
     "end_time": "2025-06-18T16:12:29.042646",
     "exception": false,
     "start_time": "2025-06-18T16:12:27.933194",
     "status": "completed"
    },
    "tags": []
   },
   "source": [
    "## EfficientNetB1"
   ]
  },
  {
   "cell_type": "markdown",
   "id": "1cc3e629",
   "metadata": {
    "papermill": {
     "duration": 1.156104,
     "end_time": "2025-06-18T16:12:31.315254",
     "exception": false,
     "start_time": "2025-06-18T16:12:30.159150",
     "status": "completed"
    },
    "tags": []
   },
   "source": [
    "EfficientNetB1 would be enough for cifar-10 dataset"
   ]
  },
  {
   "cell_type": "code",
   "execution_count": 30,
   "id": "1527b62c",
   "metadata": {
    "execution": {
     "iopub.execute_input": "2025-06-18T16:12:33.535937Z",
     "iopub.status.busy": "2025-06-18T16:12:33.535447Z",
     "iopub.status.idle": "2025-06-18T16:12:35.497094Z",
     "shell.execute_reply": "2025-06-18T16:12:35.496335Z"
    },
    "papermill": {
     "duration": 3.082586,
     "end_time": "2025-06-18T16:12:35.498515",
     "exception": false,
     "start_time": "2025-06-18T16:12:32.415929",
     "status": "completed"
    },
    "tags": []
   },
   "outputs": [
    {
     "name": "stdout",
     "output_type": "stream",
     "text": [
      "Downloading data from https://storage.googleapis.com/keras-applications/efficientnetb1_notop.h5\n",
      "\u001b[1m27018416/27018416\u001b[0m \u001b[32m━━━━━━━━━━━━━━━━━━━━\u001b[0m\u001b[37m\u001b[0m \u001b[1m0s\u001b[0m 0us/step\n"
     ]
    }
   ],
   "source": [
    "efficientnetb1 = KerasModels(2)\n",
    "efficientnetb1.compile_model()"
   ]
  },
  {
   "cell_type": "code",
   "execution_count": 31,
   "id": "3c77e4b0",
   "metadata": {
    "execution": {
     "iopub.execute_input": "2025-06-18T16:12:37.643219Z",
     "iopub.status.busy": "2025-06-18T16:12:37.642629Z",
     "iopub.status.idle": "2025-06-18T16:18:51.381462Z",
     "shell.execute_reply": "2025-06-18T16:18:51.380671Z"
    },
    "papermill": {
     "duration": 374.835645,
     "end_time": "2025-06-18T16:18:51.382848",
     "exception": false,
     "start_time": "2025-06-18T16:12:36.547203",
     "status": "completed"
    },
    "tags": []
   },
   "outputs": [
    {
     "name": "stdout",
     "output_type": "stream",
     "text": [
      "Epoch 1/10\n",
      "\u001b[1m391/391\u001b[0m \u001b[32m━━━━━━━━━━━━━━━━━━━━\u001b[0m\u001b[37m\u001b[0m \u001b[1m102s\u001b[0m 152ms/step - accuracy: 0.6450 - loss: 1.0792 - val_accuracy: 0.8536 - val_loss: 0.4308\n",
      "Epoch 2/10\n",
      "\u001b[1m391/391\u001b[0m \u001b[32m━━━━━━━━━━━━━━━━━━━━\u001b[0m\u001b[37m\u001b[0m \u001b[1m30s\u001b[0m 76ms/step - accuracy: 0.7623 - loss: 0.6905 - val_accuracy: 0.8669 - val_loss: 0.3897\n",
      "Epoch 3/10\n",
      "\u001b[1m391/391\u001b[0m \u001b[32m━━━━━━━━━━━━━━━━━━━━\u001b[0m\u001b[37m\u001b[0m \u001b[1m31s\u001b[0m 78ms/step - accuracy: 0.7837 - loss: 0.6251 - val_accuracy: 0.8768 - val_loss: 0.3664\n",
      "Epoch 4/10\n",
      "\u001b[1m391/391\u001b[0m \u001b[32m━━━━━━━━━━━━━━━━━━━━\u001b[0m\u001b[37m\u001b[0m \u001b[1m30s\u001b[0m 77ms/step - accuracy: 0.7960 - loss: 0.5937 - val_accuracy: 0.8801 - val_loss: 0.3512\n",
      "Epoch 5/10\n",
      "\u001b[1m391/391\u001b[0m \u001b[32m━━━━━━━━━━━━━━━━━━━━\u001b[0m\u001b[37m\u001b[0m \u001b[1m30s\u001b[0m 76ms/step - accuracy: 0.7977 - loss: 0.5823 - val_accuracy: 0.8801 - val_loss: 0.3489\n",
      "Epoch 6/10\n",
      "\u001b[1m391/391\u001b[0m \u001b[32m━━━━━━━━━━━━━━━━━━━━\u001b[0m\u001b[37m\u001b[0m \u001b[1m30s\u001b[0m 77ms/step - accuracy: 0.8081 - loss: 0.5559 - val_accuracy: 0.8825 - val_loss: 0.3408\n",
      "Epoch 7/10\n",
      "\u001b[1m391/391\u001b[0m \u001b[32m━━━━━━━━━━━━━━━━━━━━\u001b[0m\u001b[37m\u001b[0m \u001b[1m30s\u001b[0m 78ms/step - accuracy: 0.8053 - loss: 0.5558 - val_accuracy: 0.8813 - val_loss: 0.3417\n",
      "Epoch 8/10\n",
      "\u001b[1m391/391\u001b[0m \u001b[32m━━━━━━━━━━━━━━━━━━━━\u001b[0m\u001b[37m\u001b[0m \u001b[1m30s\u001b[0m 78ms/step - accuracy: 0.8155 - loss: 0.5370 - val_accuracy: 0.8843 - val_loss: 0.3331\n",
      "Epoch 9/10\n",
      "\u001b[1m391/391\u001b[0m \u001b[32m━━━━━━━━━━━━━━━━━━━━\u001b[0m\u001b[37m\u001b[0m \u001b[1m30s\u001b[0m 77ms/step - accuracy: 0.8182 - loss: 0.5195 - val_accuracy: 0.8849 - val_loss: 0.3351\n",
      "Epoch 10/10\n",
      "\u001b[1m391/391\u001b[0m \u001b[32m━━━━━━━━━━━━━━━━━━━━\u001b[0m\u001b[37m\u001b[0m \u001b[1m31s\u001b[0m 78ms/step - accuracy: 0.8196 - loss: 0.5146 - val_accuracy: 0.8879 - val_loss: 0.3299\n"
     ]
    }
   ],
   "source": [
    "efficientnetb1.fit_model(augmented_images , [x_test , y_test])"
   ]
  },
  {
   "cell_type": "code",
   "execution_count": 32,
   "id": "7772b732",
   "metadata": {
    "execution": {
     "iopub.execute_input": "2025-06-18T16:18:53.934257Z",
     "iopub.status.busy": "2025-06-18T16:18:53.934013Z",
     "iopub.status.idle": "2025-06-18T16:18:53.958823Z",
     "shell.execute_reply": "2025-06-18T16:18:53.958272Z"
    },
    "papermill": {
     "duration": 1.236889,
     "end_time": "2025-06-18T16:18:53.959839",
     "exception": false,
     "start_time": "2025-06-18T16:18:52.722950",
     "status": "completed"
    },
    "tags": []
   },
   "outputs": [
    {
     "data": {
      "text/html": [
       "<pre style=\"white-space:pre;overflow-x:auto;line-height:normal;font-family:Menlo,'DejaVu Sans Mono',consolas,'Courier New',monospace\"><span style=\"font-weight: bold\">Model: \"keras_models_2\"</span>\n",
       "</pre>\n"
      ],
      "text/plain": [
       "\u001b[1mModel: \"keras_models_2\"\u001b[0m\n"
      ]
     },
     "metadata": {},
     "output_type": "display_data"
    },
    {
     "data": {
      "text/html": [
       "<pre style=\"white-space:pre;overflow-x:auto;line-height:normal;font-family:Menlo,'DejaVu Sans Mono',consolas,'Courier New',monospace\">┏━━━━━━━━━━━━━━━━━━━━━━━━━━━━━━━━━━━━━━┳━━━━━━━━━━━━━━━━━━━━━━━━━━━━━┳━━━━━━━━━━━━━━━━━┓\n",
       "┃<span style=\"font-weight: bold\"> Layer (type)                         </span>┃<span style=\"font-weight: bold\"> Output Shape                </span>┃<span style=\"font-weight: bold\">         Param # </span>┃\n",
       "┡━━━━━━━━━━━━━━━━━━━━━━━━━━━━━━━━━━━━━━╇━━━━━━━━━━━━━━━━━━━━━━━━━━━━━╇━━━━━━━━━━━━━━━━━┩\n",
       "│ resizing_2 (<span style=\"color: #0087ff; text-decoration-color: #0087ff\">Resizing</span>)                │ (<span style=\"color: #00d7ff; text-decoration-color: #00d7ff\">None</span>, <span style=\"color: #00af00; text-decoration-color: #00af00\">128</span>, <span style=\"color: #00af00; text-decoration-color: #00af00\">128</span>, <span style=\"color: #00af00; text-decoration-color: #00af00\">3</span>)         │               <span style=\"color: #00af00; text-decoration-color: #00af00\">0</span> │\n",
       "├──────────────────────────────────────┼─────────────────────────────┼─────────────────┤\n",
       "│ efficientnetb1 (<span style=\"color: #0087ff; text-decoration-color: #0087ff\">Functional</span>)          │ (<span style=\"color: #00d7ff; text-decoration-color: #00d7ff\">None</span>, <span style=\"color: #00d7ff; text-decoration-color: #00d7ff\">None</span>, <span style=\"color: #00d7ff; text-decoration-color: #00d7ff\">None</span>, <span style=\"color: #00af00; text-decoration-color: #00af00\">1280</span>)    │       <span style=\"color: #00af00; text-decoration-color: #00af00\">6,575,239</span> │\n",
       "├──────────────────────────────────────┼─────────────────────────────┼─────────────────┤\n",
       "│ global_average_pooling2d_2           │ ?                           │               <span style=\"color: #00af00; text-decoration-color: #00af00\">0</span> │\n",
       "│ (<span style=\"color: #0087ff; text-decoration-color: #0087ff\">GlobalAveragePooling2D</span>)             │                             │                 │\n",
       "├──────────────────────────────────────┼─────────────────────────────┼─────────────────┤\n",
       "│ dense_10 (<span style=\"color: #0087ff; text-decoration-color: #0087ff\">Dense</span>)                     │ (<span style=\"color: #00d7ff; text-decoration-color: #00d7ff\">None</span>, <span style=\"color: #00af00; text-decoration-color: #00af00\">256</span>)                 │         <span style=\"color: #00af00; text-decoration-color: #00af00\">327,936</span> │\n",
       "├──────────────────────────────────────┼─────────────────────────────┼─────────────────┤\n",
       "│ batch_normalization_13               │ (<span style=\"color: #00d7ff; text-decoration-color: #00d7ff\">None</span>, <span style=\"color: #00af00; text-decoration-color: #00af00\">256</span>)                 │           <span style=\"color: #00af00; text-decoration-color: #00af00\">1,024</span> │\n",
       "│ (<span style=\"color: #0087ff; text-decoration-color: #0087ff\">BatchNormalization</span>)                 │                             │                 │\n",
       "├──────────────────────────────────────┼─────────────────────────────┼─────────────────┤\n",
       "│ dropout_8 (<span style=\"color: #0087ff; text-decoration-color: #0087ff\">Dropout</span>)                  │ ?                           │               <span style=\"color: #00af00; text-decoration-color: #00af00\">0</span> │\n",
       "├──────────────────────────────────────┼─────────────────────────────┼─────────────────┤\n",
       "│ dense_11 (<span style=\"color: #0087ff; text-decoration-color: #0087ff\">Dense</span>)                     │ (<span style=\"color: #00d7ff; text-decoration-color: #00d7ff\">None</span>, <span style=\"color: #00af00; text-decoration-color: #00af00\">256</span>)                 │          <span style=\"color: #00af00; text-decoration-color: #00af00\">65,792</span> │\n",
       "├──────────────────────────────────────┼─────────────────────────────┼─────────────────┤\n",
       "│ batch_normalization_14               │ (<span style=\"color: #00d7ff; text-decoration-color: #00d7ff\">None</span>, <span style=\"color: #00af00; text-decoration-color: #00af00\">256</span>)                 │           <span style=\"color: #00af00; text-decoration-color: #00af00\">1,024</span> │\n",
       "│ (<span style=\"color: #0087ff; text-decoration-color: #0087ff\">BatchNormalization</span>)                 │                             │                 │\n",
       "├──────────────────────────────────────┼─────────────────────────────┼─────────────────┤\n",
       "│ dropout_9 (<span style=\"color: #0087ff; text-decoration-color: #0087ff\">Dropout</span>)                  │ ?                           │               <span style=\"color: #00af00; text-decoration-color: #00af00\">0</span> │\n",
       "├──────────────────────────────────────┼─────────────────────────────┼─────────────────┤\n",
       "│ dense_12 (<span style=\"color: #0087ff; text-decoration-color: #0087ff\">Dense</span>)                     │ (<span style=\"color: #00d7ff; text-decoration-color: #00d7ff\">None</span>, <span style=\"color: #00af00; text-decoration-color: #00af00\">128</span>)                 │          <span style=\"color: #00af00; text-decoration-color: #00af00\">32,896</span> │\n",
       "├──────────────────────────────────────┼─────────────────────────────┼─────────────────┤\n",
       "│ batch_normalization_15               │ (<span style=\"color: #00d7ff; text-decoration-color: #00d7ff\">None</span>, <span style=\"color: #00af00; text-decoration-color: #00af00\">128</span>)                 │             <span style=\"color: #00af00; text-decoration-color: #00af00\">512</span> │\n",
       "│ (<span style=\"color: #0087ff; text-decoration-color: #0087ff\">BatchNormalization</span>)                 │                             │                 │\n",
       "├──────────────────────────────────────┼─────────────────────────────┼─────────────────┤\n",
       "│ dropout_10 (<span style=\"color: #0087ff; text-decoration-color: #0087ff\">Dropout</span>)                 │ ?                           │               <span style=\"color: #00af00; text-decoration-color: #00af00\">0</span> │\n",
       "├──────────────────────────────────────┼─────────────────────────────┼─────────────────┤\n",
       "│ dense_13 (<span style=\"color: #0087ff; text-decoration-color: #0087ff\">Dense</span>)                     │ (<span style=\"color: #00d7ff; text-decoration-color: #00d7ff\">None</span>, <span style=\"color: #00af00; text-decoration-color: #00af00\">10</span>)                  │           <span style=\"color: #00af00; text-decoration-color: #00af00\">1,290</span> │\n",
       "└──────────────────────────────────────┴─────────────────────────────┴─────────────────┘\n",
       "</pre>\n"
      ],
      "text/plain": [
       "┏━━━━━━━━━━━━━━━━━━━━━━━━━━━━━━━━━━━━━━┳━━━━━━━━━━━━━━━━━━━━━━━━━━━━━┳━━━━━━━━━━━━━━━━━┓\n",
       "┃\u001b[1m \u001b[0m\u001b[1mLayer (type)                        \u001b[0m\u001b[1m \u001b[0m┃\u001b[1m \u001b[0m\u001b[1mOutput Shape               \u001b[0m\u001b[1m \u001b[0m┃\u001b[1m \u001b[0m\u001b[1m        Param #\u001b[0m\u001b[1m \u001b[0m┃\n",
       "┡━━━━━━━━━━━━━━━━━━━━━━━━━━━━━━━━━━━━━━╇━━━━━━━━━━━━━━━━━━━━━━━━━━━━━╇━━━━━━━━━━━━━━━━━┩\n",
       "│ resizing_2 (\u001b[38;5;33mResizing\u001b[0m)                │ (\u001b[38;5;45mNone\u001b[0m, \u001b[38;5;34m128\u001b[0m, \u001b[38;5;34m128\u001b[0m, \u001b[38;5;34m3\u001b[0m)         │               \u001b[38;5;34m0\u001b[0m │\n",
       "├──────────────────────────────────────┼─────────────────────────────┼─────────────────┤\n",
       "│ efficientnetb1 (\u001b[38;5;33mFunctional\u001b[0m)          │ (\u001b[38;5;45mNone\u001b[0m, \u001b[38;5;45mNone\u001b[0m, \u001b[38;5;45mNone\u001b[0m, \u001b[38;5;34m1280\u001b[0m)    │       \u001b[38;5;34m6,575,239\u001b[0m │\n",
       "├──────────────────────────────────────┼─────────────────────────────┼─────────────────┤\n",
       "│ global_average_pooling2d_2           │ ?                           │               \u001b[38;5;34m0\u001b[0m │\n",
       "│ (\u001b[38;5;33mGlobalAveragePooling2D\u001b[0m)             │                             │                 │\n",
       "├──────────────────────────────────────┼─────────────────────────────┼─────────────────┤\n",
       "│ dense_10 (\u001b[38;5;33mDense\u001b[0m)                     │ (\u001b[38;5;45mNone\u001b[0m, \u001b[38;5;34m256\u001b[0m)                 │         \u001b[38;5;34m327,936\u001b[0m │\n",
       "├──────────────────────────────────────┼─────────────────────────────┼─────────────────┤\n",
       "│ batch_normalization_13               │ (\u001b[38;5;45mNone\u001b[0m, \u001b[38;5;34m256\u001b[0m)                 │           \u001b[38;5;34m1,024\u001b[0m │\n",
       "│ (\u001b[38;5;33mBatchNormalization\u001b[0m)                 │                             │                 │\n",
       "├──────────────────────────────────────┼─────────────────────────────┼─────────────────┤\n",
       "│ dropout_8 (\u001b[38;5;33mDropout\u001b[0m)                  │ ?                           │               \u001b[38;5;34m0\u001b[0m │\n",
       "├──────────────────────────────────────┼─────────────────────────────┼─────────────────┤\n",
       "│ dense_11 (\u001b[38;5;33mDense\u001b[0m)                     │ (\u001b[38;5;45mNone\u001b[0m, \u001b[38;5;34m256\u001b[0m)                 │          \u001b[38;5;34m65,792\u001b[0m │\n",
       "├──────────────────────────────────────┼─────────────────────────────┼─────────────────┤\n",
       "│ batch_normalization_14               │ (\u001b[38;5;45mNone\u001b[0m, \u001b[38;5;34m256\u001b[0m)                 │           \u001b[38;5;34m1,024\u001b[0m │\n",
       "│ (\u001b[38;5;33mBatchNormalization\u001b[0m)                 │                             │                 │\n",
       "├──────────────────────────────────────┼─────────────────────────────┼─────────────────┤\n",
       "│ dropout_9 (\u001b[38;5;33mDropout\u001b[0m)                  │ ?                           │               \u001b[38;5;34m0\u001b[0m │\n",
       "├──────────────────────────────────────┼─────────────────────────────┼─────────────────┤\n",
       "│ dense_12 (\u001b[38;5;33mDense\u001b[0m)                     │ (\u001b[38;5;45mNone\u001b[0m, \u001b[38;5;34m128\u001b[0m)                 │          \u001b[38;5;34m32,896\u001b[0m │\n",
       "├──────────────────────────────────────┼─────────────────────────────┼─────────────────┤\n",
       "│ batch_normalization_15               │ (\u001b[38;5;45mNone\u001b[0m, \u001b[38;5;34m128\u001b[0m)                 │             \u001b[38;5;34m512\u001b[0m │\n",
       "│ (\u001b[38;5;33mBatchNormalization\u001b[0m)                 │                             │                 │\n",
       "├──────────────────────────────────────┼─────────────────────────────┼─────────────────┤\n",
       "│ dropout_10 (\u001b[38;5;33mDropout\u001b[0m)                 │ ?                           │               \u001b[38;5;34m0\u001b[0m │\n",
       "├──────────────────────────────────────┼─────────────────────────────┼─────────────────┤\n",
       "│ dense_13 (\u001b[38;5;33mDense\u001b[0m)                     │ (\u001b[38;5;45mNone\u001b[0m, \u001b[38;5;34m10\u001b[0m)                  │           \u001b[38;5;34m1,290\u001b[0m │\n",
       "└──────────────────────────────────────┴─────────────────────────────┴─────────────────┘\n"
      ]
     },
     "metadata": {},
     "output_type": "display_data"
    },
    {
     "data": {
      "text/html": [
       "<pre style=\"white-space:pre;overflow-x:auto;line-height:normal;font-family:Menlo,'DejaVu Sans Mono',consolas,'Courier New',monospace\"><span style=\"font-weight: bold\"> Total params: </span><span style=\"color: #00af00; text-decoration-color: #00af00\">7,864,103</span> (30.00 MB)\n",
       "</pre>\n"
      ],
      "text/plain": [
       "\u001b[1m Total params: \u001b[0m\u001b[38;5;34m7,864,103\u001b[0m (30.00 MB)\n"
      ]
     },
     "metadata": {},
     "output_type": "display_data"
    },
    {
     "data": {
      "text/html": [
       "<pre style=\"white-space:pre;overflow-x:auto;line-height:normal;font-family:Menlo,'DejaVu Sans Mono',consolas,'Courier New',monospace\"><span style=\"font-weight: bold\"> Trainable params: </span><span style=\"color: #00af00; text-decoration-color: #00af00\">429,194</span> (1.64 MB)\n",
       "</pre>\n"
      ],
      "text/plain": [
       "\u001b[1m Trainable params: \u001b[0m\u001b[38;5;34m429,194\u001b[0m (1.64 MB)\n"
      ]
     },
     "metadata": {},
     "output_type": "display_data"
    },
    {
     "data": {
      "text/html": [
       "<pre style=\"white-space:pre;overflow-x:auto;line-height:normal;font-family:Menlo,'DejaVu Sans Mono',consolas,'Courier New',monospace\"><span style=\"font-weight: bold\"> Non-trainable params: </span><span style=\"color: #00af00; text-decoration-color: #00af00\">6,576,519</span> (25.09 MB)\n",
       "</pre>\n"
      ],
      "text/plain": [
       "\u001b[1m Non-trainable params: \u001b[0m\u001b[38;5;34m6,576,519\u001b[0m (25.09 MB)\n"
      ]
     },
     "metadata": {},
     "output_type": "display_data"
    },
    {
     "data": {
      "text/html": [
       "<pre style=\"white-space:pre;overflow-x:auto;line-height:normal;font-family:Menlo,'DejaVu Sans Mono',consolas,'Courier New',monospace\"><span style=\"font-weight: bold\"> Optimizer params: </span><span style=\"color: #00af00; text-decoration-color: #00af00\">858,390</span> (3.27 MB)\n",
       "</pre>\n"
      ],
      "text/plain": [
       "\u001b[1m Optimizer params: \u001b[0m\u001b[38;5;34m858,390\u001b[0m (3.27 MB)\n"
      ]
     },
     "metadata": {},
     "output_type": "display_data"
    }
   ],
   "source": [
    "efficientnetb1.summary()"
   ]
  },
  {
   "cell_type": "code",
   "execution_count": 33,
   "id": "56bdb0ff",
   "metadata": {
    "execution": {
     "iopub.execute_input": "2025-06-18T16:18:56.572822Z",
     "iopub.status.busy": "2025-06-18T16:18:56.572155Z",
     "iopub.status.idle": "2025-06-18T16:18:56.576859Z",
     "shell.execute_reply": "2025-06-18T16:18:56.576191Z"
    },
    "papermill": {
     "duration": 1.348038,
     "end_time": "2025-06-18T16:18:56.578008",
     "exception": false,
     "start_time": "2025-06-18T16:18:55.229970",
     "status": "completed"
    },
    "tags": []
   },
   "outputs": [
    {
     "data": {
      "text/plain": [
       "[0.8633999824523926,\n",
       " 0.8734999895095825,\n",
       " 0.8877999782562256,\n",
       " 0.888700008392334,\n",
       " 0.8870000243186951,\n",
       " 0.8899999856948853,\n",
       " 0.8881000280380249,\n",
       " 0.8939999938011169,\n",
       " 0.8907999992370605,\n",
       " 0.8927000164985657]"
      ]
     },
     "execution_count": 33,
     "metadata": {},
     "output_type": "execute_result"
    }
   ],
   "source": [
    "resnet50.history.history[\"val_accuracy\"]"
   ]
  },
  {
   "cell_type": "code",
   "execution_count": 34,
   "id": "7a210161",
   "metadata": {
    "execution": {
     "iopub.execute_input": "2025-06-18T16:18:59.067181Z",
     "iopub.status.busy": "2025-06-18T16:18:59.066634Z",
     "iopub.status.idle": "2025-06-18T16:18:59.471262Z",
     "shell.execute_reply": "2025-06-18T16:18:59.470586Z"
    },
    "papermill": {
     "duration": 1.68326,
     "end_time": "2025-06-18T16:18:59.472847",
     "exception": false,
     "start_time": "2025-06-18T16:18:57.789587",
     "status": "completed"
    },
    "tags": []
   },
   "outputs": [
    {
     "data": {
      "image/png": "[encoded data removed]",
      "text/plain": [
       "<Figure size 640x480 with 3 Axes>"
      ]
     },
     "metadata": {},
     "output_type": "display_data"
    }
   ],
   "source": [
    "models = [mobilenetv2 , resnet50 , efficientnetb1]\n",
    "modelnames = [\"mobilenetv2\" , \"resnet50\" , \"efficientnetb1\"]\n",
    "Evaulate.model_comprasion(models , modelnames)   "
   ]
  },
  {
   "cell_type": "markdown",
   "id": "f42144c7",
   "metadata": {
    "papermill": {
     "duration": 1.296448,
     "end_time": "2025-06-18T16:19:02.167560",
     "exception": false,
     "start_time": "2025-06-18T16:19:00.871112",
     "status": "completed"
    },
    "tags": []
   },
   "source": [
    "---\n",
    "<font color = \"#4CAF50\">Thank you for following along! In this notebook, we explored the CIFAR-10 dataset, built and trained several state-of-the-art image classification models including ResNet50, MobileNetV2, and EfficientNetB1, and evaluated their performance using metrics like accuracy and ROC curves. I hope this provides a clear understanding of these architectures and their application to real-world image classification tasks. \n",
    "\n",
    "<font color = \"#FF5722\">Feel free to share your feedback or any suggestions for improvement. And don't forget to upvote! Happy coding! 🚀</font>\n"
   ]
  }
 ],
 "metadata": {
  "kaggle": {
   "accelerator": "gpu",
   "dataSources": [
    {
     "datasetId": 11102,
     "sourceId": 15444,
     "sourceType": "datasetVersion"
    },
    {
     "modelId": 301,
     "modelInstanceId": 2508,
     "sourceId": 3404,
     "sourceType": "modelInstanceVersion"
    }
   ],
   "dockerImageVersionId": 31040,
   "isGpuEnabled": true,
   "isInternetEnabled": true,
   "language": "python",
   "sourceType": "notebook"
  },
  "kernelspec": {
   "display_name": "Python 3",
   "language": "python",
   "name": "python3"
  },
  "language_info": {
   "codemirror_mode": {
    "name": "ipython",
    "version": 3
   },
   "file_extension": ".py",
   "mimetype": "text/x-python",
   "name": "python",
   "nbconvert_exporter": "python",
   "pygments_lexer": "ipython3",
   "version": "3.11.11"
  },
  "papermill": {
   "default_parameters": {},
   "duration": 2102.419691,
   "end_time": "2025-06-18T16:19:06.845904",
   "environment_variables": {},
   "exception": null,
   "input_path": "__notebook__.ipynb",
   "output_path": "__notebook__.ipynb",
   "parameters": {},
   "start_time": "2025-06-18T15:44:04.426213",
   "version": "2.6.0"
  }
 },
 "nbformat": 4,
 "nbformat_minor": 5
}
